{
 "cells": [
  {
   "cell_type": "markdown",
   "metadata": {},
   "source": [
    "### Assisgnment 1 : Web Scraping using Beautiful Soup"
   ]
  },
  {
   "cell_type": "code",
   "execution_count": 1,
   "metadata": {},
   "outputs": [
    {
     "name": "stdout",
     "output_type": "stream",
     "text": [
      "Requirement already satisfied: bs4 in c:\\programdata\\anaconda3\\lib\\site-packages (0.0.1)\n",
      "Requirement already satisfied: beautifulsoup4 in c:\\programdata\\anaconda3\\lib\\site-packages (from bs4) (4.8.2)\n",
      "Requirement already satisfied: soupsieve>=1.2 in c:\\programdata\\anaconda3\\lib\\site-packages (from beautifulsoup4->bs4) (1.9.5)\n",
      "Requirement already satisfied: requests in c:\\users\\sonal\\appdata\\roaming\\python\\python37\\site-packages (2.25.1)\n",
      "Requirement already satisfied: chardet<5,>=3.0.2 in c:\\programdata\\anaconda3\\lib\\site-packages (from requests) (3.0.4)\n",
      "Requirement already satisfied: urllib3<1.27,>=1.21.1 in c:\\programdata\\anaconda3\\lib\\site-packages (from requests) (1.25.8)\n",
      "Requirement already satisfied: certifi>=2017.4.17 in c:\\programdata\\anaconda3\\lib\\site-packages (from requests) (2019.11.28)\n",
      "Requirement already satisfied: idna<3,>=2.5 in c:\\programdata\\anaconda3\\lib\\site-packages (from requests) (2.8)\n"
     ]
    }
   ],
   "source": [
    "# ! pip install bs4\n",
    "# ! pip install requests"
   ]
  },
  {
   "cell_type": "code",
   "execution_count": 2,
   "metadata": {},
   "outputs": [],
   "source": [
    "from bs4 import BeautifulSoup\n",
    "import requests\n",
    "from urllib.request import urlopen"
   ]
  },
  {
   "cell_type": "markdown",
   "metadata": {},
   "source": [
    "Q1. Write a python program to display all the header tags from ‘en.wikipedia.org/wiki/Main_Page’.\n",
    "\n",
    "\n",
    "Ans :"
   ]
  },
  {
   "cell_type": "code",
   "execution_count": 3,
   "metadata": {},
   "outputs": [],
   "source": [
    "html = urlopen('https://en.wikipedia.org/wiki/Main_Page')"
   ]
  },
  {
   "cell_type": "code",
   "execution_count": 4,
   "metadata": {},
   "outputs": [],
   "source": [
    "bs = BeautifulSoup(html, \"html.parser\")"
   ]
  },
  {
   "cell_type": "code",
   "execution_count": 5,
   "metadata": {},
   "outputs": [
    {
     "name": "stdout",
     "output_type": "stream",
     "text": [
      "List Of All the Header Tags: \n",
      "\n",
      "<h1 class=\"firstHeading\" id=\"firstHeading\">Main Page</h1>\n",
      "\n",
      "<h2 class=\"mp-h2\" id=\"mp-tfa-h2\"><span id=\"From_today.27s_featured_article\"></span><span class=\"mw-headline\" id=\"From_today's_featured_article\">From today's featured article</span></h2>\n",
      "\n",
      "<h2 class=\"mp-h2\" id=\"mp-dyk-h2\"><span class=\"mw-headline\" id=\"Did_you_know_...\">Did you know ...</span></h2>\n",
      "\n",
      "<h2 class=\"mp-h2\" id=\"mp-itn-h2\"><span class=\"mw-headline\" id=\"In_the_news\">In the news</span></h2>\n",
      "\n",
      "<h2 class=\"mp-h2\" id=\"mp-otd-h2\"><span class=\"mw-headline\" id=\"On_this_day\">On this day</span></h2>\n",
      "\n",
      "<h2 class=\"mp-h2\" id=\"mp-tfp-h2\"><span id=\"Today.27s_featured_picture\"></span><span class=\"mw-headline\" id=\"Today's_featured_picture\">Today's featured picture</span></h2>\n",
      "\n",
      "<h2 class=\"mp-h2\" id=\"mp-other\"><span class=\"mw-headline\" id=\"Other_areas_of_Wikipedia\">Other areas of Wikipedia</span></h2>\n",
      "\n",
      "<h2 class=\"mp-h2\" id=\"mp-sister\"><span id=\"Wikipedia.27s_sister_projects\"></span><span class=\"mw-headline\" id=\"Wikipedia's_sister_projects\">Wikipedia's sister projects</span></h2>\n",
      "\n",
      "<h2 class=\"mp-h2\" id=\"mp-lang\"><span class=\"mw-headline\" id=\"Wikipedia_languages\">Wikipedia languages</span></h2>\n",
      "\n",
      "<h2>Navigation menu</h2>\n",
      "\n",
      "<h3 class=\"vector-menu-heading\" id=\"p-personal-label\">\n",
      "<span>Personal tools</span>\n",
      "</h3>\n",
      "\n",
      "<h3 class=\"vector-menu-heading\" id=\"p-namespaces-label\">\n",
      "<span>Namespaces</span>\n",
      "</h3>\n",
      "\n",
      "<h3 class=\"vector-menu-heading\" id=\"p-variants-label\">\n",
      "<span>Variants</span>\n",
      "</h3>\n",
      "\n",
      "<h3 class=\"vector-menu-heading\" id=\"p-views-label\">\n",
      "<span>Views</span>\n",
      "</h3>\n",
      "\n",
      "<h3 class=\"vector-menu-heading\" id=\"p-cactions-label\">\n",
      "<span>More</span>\n",
      "</h3>\n",
      "\n",
      "<h3>\n",
      "<label for=\"searchInput\">Search</label>\n",
      "</h3>\n",
      "\n",
      "<h3 class=\"vector-menu-heading\" id=\"p-navigation-label\">\n",
      "<span>Navigation</span>\n",
      "</h3>\n",
      "\n",
      "<h3 class=\"vector-menu-heading\" id=\"p-interaction-label\">\n",
      "<span>Contribute</span>\n",
      "</h3>\n",
      "\n",
      "<h3 class=\"vector-menu-heading\" id=\"p-tb-label\">\n",
      "<span>Tools</span>\n",
      "</h3>\n",
      "\n",
      "<h3 class=\"vector-menu-heading\" id=\"p-coll-print_export-label\">\n",
      "<span>Print/export</span>\n",
      "</h3>\n",
      "\n",
      "<h3 class=\"vector-menu-heading\" id=\"p-wikibase-otherprojects-label\">\n",
      "<span>In other projects</span>\n",
      "</h3>\n",
      "\n",
      "<h3 class=\"vector-menu-heading\" id=\"p-lang-label\">\n",
      "<span>Languages</span>\n",
      "</h3>\n"
     ]
    }
   ],
   "source": [
    "tags = bs.find_all([\"h1\", \"h2\", \"h3\", \"h4\", \"h5\", \"h6\"])\n",
    "print(\"List Of All the Header Tags: \", *tags, sep=\"\\n\\n\")"
   ]
  },
  {
   "cell_type": "markdown",
   "metadata": {},
   "source": [
    "Q2. Write a python program to display IMDB’s Top rated 100 movies’ data (i.e. Name, IMDB rating, Year of \n",
    "release) and save it in form of a CSV file. \n",
    "\n",
    "Ans :"
   ]
  },
  {
   "cell_type": "code",
   "execution_count": 6,
   "metadata": {},
   "outputs": [],
   "source": [
    "url = \"http://www.imdb.com/chart/top\"\n",
    "response = requests.get(url)\n",
    "soup = BeautifulSoup(response.text,\"lxml\")"
   ]
  },
  {
   "cell_type": "code",
   "execution_count": 7,
   "metadata": {},
   "outputs": [],
   "source": [
    "movies = soup.select(\"td.titleColumn\")\n"
   ]
  },
  {
   "cell_type": "code",
   "execution_count": 125,
   "metadata": {
    "scrolled": true
   },
   "outputs": [
    {
     "name": "stdout",
     "output_type": "stream",
     "text": [
      "1 - The Shawshank Redemption   (1994)  -  9.22\n",
      "2 - The Godfather   (1972)  -  9.15\n",
      "3 - The Godfather: Part II   (1974)  -  8.98\n",
      "4 - The Dark Knight   (2008)  -  8.98\n",
      "5 - 12 Angry Men   (1957)  -  8.93\n",
      "6 - Schindler's List   (1993)  -  8.91\n",
      "7 - The Lord of the Rings: The Return of the King   (2003)  -  8.89\n",
      "8 - Pulp Fiction   (1994)  -  8.84\n",
      "9 - Il buono, il brutto, il cattivo   (1966)  -  8.79\n",
      "10 -  The Lord of the Rings: The Fellowship of the Ring   (2001)  -  8.78\n",
      "11 - Fight Club   (1999)  -  8.76\n",
      "12 - Forrest Gump   (1994)  -  8.75\n",
      "13 - Inception   (2010)  -  8.72\n",
      "14 - The Lord of the Rings: The Two Towers   (2002)  -  8.70\n",
      "15 - Star Wars: Episode V - The Empire Strikes Back   (1980)  -  8.70\n",
      "16 - The Matrix   (1999)  -  8.65\n",
      "17 - Goodfellas   (1990)  -  8.64\n",
      "18 - One Flew Over the Cuckoo's Nest   (1975)  -  8.64\n",
      "19 - Shichinin no samurai   (1954)  -  8.60\n",
      "20 - Se7en   (1995)  -  8.59\n",
      "21 - La vita è bella   (1997)  -  8.58\n",
      "22 - Cidade de Deus   (2002)  -  8.58\n",
      "23 - The Silence of the Lambs   (1991)  -  8.58\n",
      "24 - It's a Wonderful Life   (1946)  -  8.57\n",
      "25 - Star Wars   (1977)  -  8.55\n",
      "26 - Saving Private Ryan   (1998)  -  8.55\n",
      "27 - The Green Mile   (1999)  -  8.54\n",
      "28 - Sen to Chihiro no kamikakushi   (2001)  -  8.54\n",
      "29 - Interstellar   (2014)  -  8.54\n",
      "30 - Gisaengchung   (2019)  -  8.53\n",
      "31 - Léon   (1994)  -  8.51\n",
      "32 - Seppuku   (1962)  -  8.50\n",
      "33 - The Usual Suspects   (1995)  -  8.49\n",
      "34 - The Lion King   (1994)  -  8.49\n",
      "35 - The Pianist   (2002)  -  8.49\n",
      "36 - Terminator 2: Judgment Day   (1991)  -  8.49\n",
      "37 - Back to the Future   (1985)  -  8.49\n",
      "38 - American History X   (1998)  -  8.48\n",
      "39 - Modern Times   (1936)  -  8.48\n",
      "40 - Gladiator   (2000)  -  8.48\n",
      "41 - Psycho   (1960)  -  8.48\n",
      "42 - The Departed   (2006)  -  8.47\n",
      "43 - City Lights   (1931)  -  8.47\n",
      "44 - The Intouchables   (2011)  -  8.47\n",
      "45 - Whiplash   (2014)  -  8.47\n",
      "46 - Hotaru no haka   (1988)  -  8.46\n",
      "47 - The Prestige   (2006)  -  8.46\n",
      "48 - Once Upon a Time in the West   (1968)  -  8.44\n",
      "49 - Casablanca   (1942)  -  8.44\n",
      "50 - Nuovo Cinema Paradiso   (1988)  -  8.43\n",
      "51 - Rear Window   (1954)  -  8.43\n",
      "52 - Alien   (1979)  -  8.42\n",
      "53 - Apocalypse Now   (1979)  -  8.42\n",
      "54 - Memento   (2000)  -  8.41\n",
      "55 - The Great Dictator   (1940)  -  8.41\n",
      "56 - Raiders of the Lost Ark   (1981)  -  8.40\n",
      "57 - Django Unchained   (2012)  -  8.39\n",
      "58 - The Lives of Others   (2006)  -  8.39\n",
      "59 - Hamilton   (2020)  -  8.38\n",
      "60 - Paths of Glory   (1957)  -  8.38\n",
      "61 - Joker   (2019)  -  8.37\n",
      "62 - WALL·E   (2008)  -  8.37\n",
      "63 - The Shining   (1980)  -  8.37\n",
      "64 - Avengers: Infinity War   (2018)  -  8.36\n",
      "65 - Sunset Blvd   (1950)  -  8.36\n",
      "66 - Witness for the Prosecution   (1957)  -  8.36\n",
      "67 - Oldeuboi   (2003)  -  8.35\n",
      "68 - Spider-Man: Into the Spider-Verse   (2018)  -  8.35\n",
      "69 - Mononoke-hime   (1997)  -  8.35\n",
      "70 - Dr Strangelove or: How I Learned to Stop Worrying and Love the Bomb   (1964)  -  8.34\n",
      "71 - The Dark Knight Rises   (2012)  -  8.33\n",
      "72 - Once Upon a Time in America   (1984)  -  8.33\n",
      "73 - Kimi no na wa   (2016)  -  8.32\n",
      "74 - Aliens   (1986)  -  8.32\n",
      "75 - Coco   (2017)  -  8.32\n",
      "76 - Avengers: Endgame   (2019)  -  8.31\n",
      "77 - Capharnaüm   (2018)  -  8.31\n",
      "78 - American Beauty   (1999)  -  8.30\n",
      "79 - Braveheart   (1995)  -  8.30\n",
      "80 - Tengoku to jigoku   (1963)  -  8.30\n",
      "81 - Das Boot   (1981)  -  8.30\n",
      "82 - Toy Story   (1995)  -  8.30\n",
      "83 - 3 Idiots   (2009)  -  8.30\n",
      "84 - Amadeus   (1984)  -  8.29\n",
      "85 - Inglourious Basterds   (2009)  -  8.29\n",
      "86 - Good Will Hunting   (1997)  -  8.28\n",
      "87 - Star Wars: Episode VI - Return of the Jedi   (1983)  -  8.28\n",
      "88 - Taare Zameen Par   (2007)  -  8.28\n",
      "89 - Reservoir Dogs   (1992)  -  8.28\n",
      "90 - 2001: A Space Odyssey   (1968)  -  8.27\n",
      "91 - Requiem for a Dream   (2000)  -  8.26\n",
      "92 - Jagten   (2012)  -  8.26\n",
      "93 - Vertigo   (1958)  -  8.26\n",
      "94 - M - Eine Stadt sucht einen Mörder   (1931)  -  8.26\n",
      "95 - Eternal Sunshine of the Spotless Mind   (2004)  -  8.26\n",
      "96 - Citizen Kane   (1941)  -  8.25\n",
      "97 - Dangal   (2016)  -  8.25\n",
      "98 - Singin' in the Rain   (1952)  -  8.25\n",
      "99 - Ladri di biciclette   (1948)  -  8.25\n",
      "100 -  The Kid   (1921)  -  8.25\n"
     ]
    }
   ],
   "source": [
    "import re\n",
    "\n",
    "# Download IMDB's Top 100 data\n",
    "url = 'http://www.imdb.com/chart/top'\n",
    "response = requests.get(url)\n",
    "soup = BeautifulSoup(response.text, 'lxml')\n",
    "\n",
    "movies = soup.select('td.titleColumn')\n",
    "links = [a.attrs.get('href') for a in soup.select('td.titleColumn a')]\n",
    "crew = [a.attrs.get('title') for a in soup.select('td.titleColumn a')]\n",
    "ratings = [\"{0:.2f}\".format(float(b.attrs.get('data-value'))) for b in soup.select('td.posterColumn span[name=ir]')]\n",
    "imdb = []\n",
    "\n",
    "# Store each item into dictionary (data), then put those into a list (imdb)\n",
    "for index in range(0, 100):\n",
    "    # Seperate movie into: 'place', 'title', 'year'\n",
    "    movie_string = movies[index].get_text()\n",
    "    movie = (' '.join(movie_string.split()).replace('.', ''))\n",
    "    movie_title = movie[len(str(index))+1:-7]\n",
    "    year = re.search('\\((.*?)\\)', movie_string).group(1)\n",
    "    place = movie.partition(' ')[0]\n",
    "    \n",
    "    \n",
    "    data = {\n",
    "        \"place\": place,\n",
    "        \"movie_title\": movie_title,\n",
    "        \"year\": year,\n",
    "        \"rating\": ratings[index],\n",
    "           }\n",
    "    imdb.append(data)\n",
    "\n",
    "for item in imdb:\n",
    "    print(item['place'], '-', item['movie_title'], '  ('+item['year']+')  -  ',end=\"\")\n",
    "    print(\"{0:.2f}\".format(float(item['rating'])))\n",
    "    "
   ]
  },
  {
   "cell_type": "code",
   "execution_count": 109,
   "metadata": {},
   "outputs": [],
   "source": [
    "import csv"
   ]
  },
  {
   "cell_type": "code",
   "execution_count": 110,
   "metadata": {},
   "outputs": [],
   "source": [
    "fields = ['place', 'movie_title', 'year', 'rating'] \n",
    "filename = \"D:\\International_imdb_100.csv\""
   ]
  },
  {
   "cell_type": "code",
   "execution_count": 111,
   "metadata": {},
   "outputs": [],
   "source": [
    "with open(filename, 'w') as csvfile:  \n",
    "    # creating a csv dict writer object  \n",
    "    writer = csv.DictWriter(csvfile, fieldnames = fields)  \n",
    "        \n",
    "    # writing headers (field names)  \n",
    "    writer.writeheader()  \n",
    "        \n",
    "    # writing data rows  \n",
    "    writer.writerows(imdb)"
   ]
  },
  {
   "cell_type": "code",
   "execution_count": null,
   "metadata": {},
   "outputs": [],
   "source": []
  },
  {
   "cell_type": "markdown",
   "metadata": {},
   "source": [
    "Q3. Write a python program to display IMDB’s Top rated 100 Indian movies’ data (i.e. Name, IMDB rating, Year \n",
    "of release) and save it in form of a CSV file.\n",
    "\n",
    "Ans :"
   ]
  },
  {
   "cell_type": "code",
   "execution_count": 130,
   "metadata": {
    "scrolled": false
   },
   "outputs": [
    {
     "name": "stdout",
     "output_type": "stream",
     "text": [
      "Ship of Theseus   (2012)  -  8.1\n",
      "Iruvar   (1997)  -  8.5\n",
      "Kaagaz Ke Phool   (1959)  -  8\n",
      "Lagaan: Once Upon a Time in India   (2001)  -  8.1\n",
      "Pather Panchali   (1955)  -  8.6\n",
      "Charulata   (1964)  -  8.3\n",
      "Rang De Basanti   (2006)  -  8.2\n",
      "DevD   (2009)  -  8\n",
      "3 Idiots   (2009)  -  8.4\n",
      " Awaara   (1951)  -  7.9\n",
      "Nayakan   (1987)  -  8.6\n",
      "Aparajito   (1956)  -  8.4\n",
      "Pushpaka Vimana   (1987)  -  8.6\n",
      "Pyaasa   (1957)  -  8.5\n",
      "Ghatashraddha   (1977)  -  7.4\n",
      "Sholay   (1975)  -  8.2\n",
      "Aradhana   (1969)  -  7.6\n",
      "Do Ankhen Barah Haath   (1957)  -  8.4\n",
      "Bombay   (1995)  -  8.1\n",
      "Neecha Nagar   (1946)  -  6.8\n",
      "Do Bigha Zamin   (1953)  -  8.4\n",
      "Garm Hava   (1974)  -  8.1\n",
      "Piravi   (1989)  -  7.7\n",
      "Mughal-E-Azam   (1960)  -  8.2\n",
      "Amma Ariyan   (1986)  -  7.1\n",
      "Madhumati   (1958)  -  8\n",
      "Goopy Gyne Bagha Byne   (1969)  -  8.8\n",
      "Gangs of Wasseypur   (2012)  -  8.2\n",
      "Guide   (1965)  -  8.4\n",
      "Satya   (1998)  -  8.2\n",
      "Roja   (1992)  -  8.2\n",
      "Mr India   (1987)  -  7.8\n",
      "The Cloud-Capped Star   (1960)  -  8\n",
      "Harishchandrachi Factory   (2009)  -  8.4\n",
      "Masoom   (1983)  -  8.4\n",
      "Agneepath   (1990)  -  7.7\n",
      "Tabarana Kathe   (1986)  -  7.9\n",
      "Zakhm   (1998)  -  7.9\n",
      "Dil Chahta Hai   (2001)  -  8.1\n",
      "Bhaag Milkha Bhaag   (2013)  -  8.2\n",
      "Chupke Chupke   (1975)  -  8.3\n",
      "Dilwale Dulhania Le Jayenge   (1995)  -  8.1\n",
      "Taare Zameen Par   (2007)  -  8.4\n",
      "Ardh Satya   (1983)  -  8.2\n",
      "Bhumika   (1977)  -  7.5\n",
      "Enthiran   (2010)  -  7.1\n",
      "Sadma   (1983)  -  8.4\n",
      "Shwaas   (2004)  -  8.3\n",
      "Lamhe   (1991)  -  7.4\n",
      "Haqeeqat   (1964)  -  7.8\n",
      "Shree 420   (1955)  -  8\n",
      "Kannathil Muthamittal   (2002)  -  8.4\n",
      "Hum Aapke Hain Koun!   (1994)  -  7.5\n",
      "Ustad Hotel   (2012)  -  8.2\n",
      "Bandit Queen   (1994)  -  7.6\n",
      "Lakshya   (2004)  -  7.9\n",
      "Black Friday   (2004)  -  8.5\n",
      "Manthan   (1976)  -  7.7\n",
      "Apoorva Raagangal   (1975)  -  7.5\n",
      "English Vinglish   (2012)  -  7.8\n",
      "Jewel Thief   (1967)  -  8\n",
      "Pakeezah   (1972)  -  7.4\n",
      "Maqbool   (2003)  -  8.1\n",
      "Jis Desh Men Ganga Behti Hai   (1960)  -  7.4\n",
      "Sahib Bibi Aur Ghulam   (1962)  -  8.3\n",
      "Shatranj Ke Khilari   (1977)  -  7.7\n",
      "Narthanasala   (1963)  -  7.6\n",
      "Chandni Bar   (2001)  -  7.6\n",
      "Vaaranam Aayiram   (2008)  -  8.1\n",
      "Mr and Mrs Iyer   (2002)  -  7.9\n",
      "Chandni   (1989)  -  6.8\n",
      "English, August   (1994)  -  6.7\n",
      "Celluloid   (2013)  -  7.7\n",
      "Sagara Sangamam   (1983)  -  8.8\n",
      "Munna Bhai MBBS   (2003)  -  8.1\n",
      "Saaransh   (1984)  -  8.2\n",
      "Guddi   (1971)  -  7.2\n",
      "Vanaja   (2006)  -  7.1\n",
      "Vazhakku Enn 18/9   (2012)  -  8.3\n",
      "Gangaajal   (2003)  -  7.8\n",
      "Angoor   (1982)  -  8.3\n",
      "Guru   (2007)  -  7.7\n",
      "Andaz Apna Apna   (1994)  -  8.2\n",
      "Sangam (I)   (I)  -  7.5\n",
      "Oka Oori Katha   (1978)  -  7.6\n",
      "Bhuvan Shome   (1969)  -  7.5\n",
      "Border (I)   (I)  -  7.9\n",
      "Parineeta   (2005)  -  7.2\n",
      "Devdas   (1955)  -  7.9\n",
      "Abohomaan   (2009)  -  7.4\n",
      "Kuch Kuch Hota Hai   (1998)  -  7.6\n",
      "Pithamagan   (2003)  -  8.3\n",
      "Veyyil   (2006)  -  7.7\n",
      "Chemmeen   (1965)  -  7.8\n",
      "Jaane Bhi Do Yaaro   (1983)  -  8.4\n",
      "Apur Sansar   (1959)  -  8.5\n",
      "Kanchivaram   (2008)  -  8.1\n",
      "Monsoon Wedding   (2001)  -  7.3\n",
      "Black   (2005)  -  8.2\n",
      " Deewaar   (1975)  -  8.1\n"
     ]
    }
   ],
   "source": [
    "# Download IMDB's Top 100 indian movies data\n",
    "url = 'https://www.imdb.com/list/ls056092300/?sort=list_order,asc&st_dt=&mode=simple&page=1&ref_=ttls_vw_smp'\n",
    "response = requests.get(url)\n",
    "soup = BeautifulSoup(response.text, 'lxml')\n",
    "\n",
    "movies = soup.select('div.col-title')\n",
    "titles = [a.text for a in soup.select('div.col-title a')]\n",
    "rating = [b.text.strip() for b in soup.select('div.col-imdb-rating strong')]\n",
    "year = [y.text for y in soup.select('span.lister-item-year')]\n",
    "\n",
    "imdb_India = []\n",
    "\n",
    "\n",
    "for index in range(0, 100):\n",
    "    # Seperate movie into: 'place', 'title', 'year'\n",
    "    movie_string = movies[index].get_text()\n",
    "    movie = (' '.join(movie_string.split()).replace('.', ''))\n",
    "    movie_title = movie[len(str(index))+1:-7]\n",
    "    year = re.search('\\((.*?)\\)', movie_string).group(1)\n",
    "    place = movie.partition(' ')[0]\n",
    "    \n",
    "    \n",
    "    data = {\n",
    "        \"Movie_title\": movie_title,\n",
    "        \"Year\": year,\n",
    "        \"Rating\": rating[index],\n",
    "           }\n",
    "    imdb_India.append(data)\n",
    "\n",
    "for item in imdb_India:\n",
    "    print(item['Movie_title'], '  ('+item['Year']+')  -  ' + item['Rating'])\n",
    "    "
   ]
  },
  {
   "cell_type": "code",
   "execution_count": 131,
   "metadata": {},
   "outputs": [],
   "source": [
    "columns = ['Movie_title', 'Year', 'Rating'] \n",
    "file = \"D:\\Indian_imdb_100.csv\""
   ]
  },
  {
   "cell_type": "code",
   "execution_count": 132,
   "metadata": {},
   "outputs": [],
   "source": [
    "with open(file, 'w') as csvfile:  \n",
    "    # creating a csv dict writer object  \n",
    "    writer = csv.DictWriter(csvfile, fieldnames = columns)  \n",
    "        \n",
    "    # writing headers (field names)  \n",
    "    writer.writeheader()  \n",
    "        \n",
    "    # writing data rows  \n",
    "    writer.writerows(imdb_India)"
   ]
  },
  {
   "cell_type": "markdown",
   "metadata": {},
   "source": [
    "Q4. Write a python program to scrap book name, author name, genre and book review of any 5 books from \n",
    "‘www.bookpage.com’\n",
    "\n",
    "Ans :"
   ]
  },
  {
   "cell_type": "code",
   "execution_count": 228,
   "metadata": {
    "scrolled": false
   },
   "outputs": [],
   "source": [
    "from requests import get\n",
    "import pandas as pd\n",
    "import numpy as np\n",
    "page = requests.get(\"https://bookpage.com/reviews\")\n",
    "soup = BeautifulSoup(page.text, 'html.parser')"
   ]
  },
  {
   "cell_type": "code",
   "execution_count": 229,
   "metadata": {},
   "outputs": [],
   "source": [
    "book_div = soup.find_all('div', class_='flex-article-content',limit=5)"
   ]
  },
  {
   "cell_type": "code",
   "execution_count": 230,
   "metadata": {},
   "outputs": [],
   "source": [
    "Names = []\n",
    "for container in book_div:\n",
    "    name = container.h4.a.text\n",
    "    Names.append(name)\n"
   ]
  },
  {
   "cell_type": "code",
   "execution_count": 231,
   "metadata": {},
   "outputs": [],
   "source": [
    "Authors = []\n",
    "for container in book_div:\n",
    "    author = container.p.text\n",
    "    Authors.append(author.strip())"
   ]
  },
  {
   "cell_type": "code",
   "execution_count": 232,
   "metadata": {},
   "outputs": [],
   "source": [
    "Genres = []\n",
    "for container in book_div:\n",
    "    genre = container.find(\"p\",class_=\"genre-links\").text\n",
    "    \n",
    "    Gen = [G.strip() for G in genre.split(\"/\") ]\n",
    "    Genres.append(Gen)"
   ]
  },
  {
   "cell_type": "code",
   "execution_count": 233,
   "metadata": {},
   "outputs": [],
   "source": [
    "Reviews = []\n",
    "for container in book_div:\n",
    "    review = container.find(\"p\",class_=\"excerpt\").text\n",
    "    Reviews.append(review.strip())"
   ]
  },
  {
   "cell_type": "code",
   "execution_count": 234,
   "metadata": {},
   "outputs": [],
   "source": [
    "book = {\n",
    "    \"Names\" : Names,\n",
    "    \"Authors\" : Authors,\n",
    "    \"Genres\" : Genres,\n",
    "    \"Reviews\" : Reviews\n",
    "}"
   ]
  },
  {
   "cell_type": "code",
   "execution_count": 235,
   "metadata": {},
   "outputs": [
    {
     "data": {
      "text/html": [
       "<div>\n",
       "<style scoped>\n",
       "    .dataframe tbody tr th:only-of-type {\n",
       "        vertical-align: middle;\n",
       "    }\n",
       "\n",
       "    .dataframe tbody tr th {\n",
       "        vertical-align: top;\n",
       "    }\n",
       "\n",
       "    .dataframe thead th {\n",
       "        text-align: right;\n",
       "    }\n",
       "</style>\n",
       "<table border=\"1\" class=\"dataframe\">\n",
       "  <thead>\n",
       "    <tr style=\"text-align: right;\">\n",
       "      <th></th>\n",
       "      <th>Names</th>\n",
       "      <th>Authors</th>\n",
       "      <th>Genres</th>\n",
       "      <th>Reviews</th>\n",
       "    </tr>\n",
       "    <tr>\n",
       "      <th>Rank</th>\n",
       "      <th></th>\n",
       "      <th></th>\n",
       "      <th></th>\n",
       "      <th></th>\n",
       "    </tr>\n",
       "  </thead>\n",
       "  <tbody>\n",
       "    <tr>\n",
       "      <th>1</th>\n",
       "      <td>★ Just as I Am</td>\n",
       "      <td>Cicely Tyson, Robin Miles</td>\n",
       "      <td>[Audio, Nonfiction, Biography &amp; Memoir]</td>\n",
       "      <td>Narrator Robin Miles bringing the same warmth ...</td>\n",
       "    </tr>\n",
       "    <tr>\n",
       "      <th>2</th>\n",
       "      <td>★ Red Island House</td>\n",
       "      <td>Andrea Lee</td>\n",
       "      <td>[Fiction, Literary Fiction]</td>\n",
       "      <td>The stories of Andrea Lee’s Red Island House a...</td>\n",
       "    </tr>\n",
       "    <tr>\n",
       "      <th>3</th>\n",
       "      <td>★ Flight of the Diamond Smugglers</td>\n",
       "      <td>Matthew Gavin Frank</td>\n",
       "      <td>[Nonfiction, Memoir, Animals]</td>\n",
       "      <td>Matthew Gavin Frank's Flight of the Diamond Sm...</td>\n",
       "    </tr>\n",
       "    <tr>\n",
       "      <th>4</th>\n",
       "      <td>The One Thing You'd Save</td>\n",
       "      <td>Linda Sue Park, Robert Sae-Heng</td>\n",
       "      <td>[Children's, Middle Grade]</td>\n",
       "      <td>In The One Thing You’d Save, a teacher named M...</td>\n",
       "    </tr>\n",
       "    <tr>\n",
       "      <th>5</th>\n",
       "      <td>The Daughters of Kobani</td>\n",
       "      <td>Gayle Tzemach Lemmon</td>\n",
       "      <td>[Nonfiction, History, Middle Eastern History]</td>\n",
       "      <td>The story of how young Kurdish women brought d...</td>\n",
       "    </tr>\n",
       "  </tbody>\n",
       "</table>\n",
       "</div>"
      ],
      "text/plain": [
       "                                   Names                          Authors  \\\n",
       "Rank                                                                        \n",
       "1                         ★ Just as I Am        Cicely Tyson, Robin Miles   \n",
       "2                     ★ Red Island House                       Andrea Lee   \n",
       "3      ★ Flight of the Diamond Smugglers              Matthew Gavin Frank   \n",
       "4               The One Thing You'd Save  Linda Sue Park, Robert Sae-Heng   \n",
       "5                The Daughters of Kobani             Gayle Tzemach Lemmon   \n",
       "\n",
       "                                             Genres  \\\n",
       "Rank                                                  \n",
       "1           [Audio, Nonfiction, Biography & Memoir]   \n",
       "2                       [Fiction, Literary Fiction]   \n",
       "3                     [Nonfiction, Memoir, Animals]   \n",
       "4                        [Children's, Middle Grade]   \n",
       "5     [Nonfiction, History, Middle Eastern History]   \n",
       "\n",
       "                                                Reviews  \n",
       "Rank                                                     \n",
       "1     Narrator Robin Miles bringing the same warmth ...  \n",
       "2     The stories of Andrea Lee’s Red Island House a...  \n",
       "3     Matthew Gavin Frank's Flight of the Diamond Sm...  \n",
       "4     In The One Thing You’d Save, a teacher named M...  \n",
       "5     The story of how young Kurdish women brought d...  "
      ]
     },
     "execution_count": 235,
     "metadata": {},
     "output_type": "execute_result"
    }
   ],
   "source": [
    "df = pd.DataFrame(book,columns = ['Names', 'Authors','Genres','Reviews']) \n",
    "df.index = np.arange(1, len(df) + 1)\n",
    "df.index.name = \"Rank\"\n",
    "df"
   ]
  },
  {
   "cell_type": "markdown",
   "metadata": {},
   "source": [
    "Q5. Write a python program to scrape cricket rankings from ‘www.icc-cricket.com’. You have to scrape:\n",
    "\n",
    "\n",
    "i) Top 10 ODI teams in men’s cricket along with the records for matches, points and rating. \n",
    "\n",
    "\n",
    "ii) Top 10 ODI Batsmen in men along with the records of their team and rating. \n",
    "\n",
    "\n",
    "iii) Top 10 ODI bowlers along with the records of their team and rating.\n",
    "\n",
    "Ans:"
   ]
  },
  {
   "cell_type": "code",
   "execution_count": 289,
   "metadata": {},
   "outputs": [],
   "source": [
    "page = requests.get(\"https://www.icc-cricket.com/rankings/mens/team-rankings/odi\")\n",
    "soup = BeautifulSoup(page.text, 'html.parser')"
   ]
  },
  {
   "cell_type": "code",
   "execution_count": 290,
   "metadata": {},
   "outputs": [],
   "source": [
    "icc_cricket = soup.find_all(\"tr\", {\"class\":[\"rankings-block__banner\", \"table-body\"]},limit=10)"
   ]
  },
  {
   "cell_type": "code",
   "execution_count": 291,
   "metadata": {},
   "outputs": [
    {
     "data": {
      "text/plain": [
       "[<tr class=\"rankings-block__banner\">\n",
       " <td class=\"rankings-block__banner--pos\">1</td>\n",
       " <td class=\"rankings-block__banner--team-name\">\n",
       " <span class=\"flag-30 rankings-block__banner--flag ENG\"></span>\n",
       " <span class=\"u-hide-phablet\">England</span>\n",
       " <span class=\"u-show-phablet\">ENG</span>\n",
       " </td>\n",
       " <td class=\"rankings-block__banner--matches\">44</td>\n",
       " <td class=\"rankings-block__banner--points\">5,405</td>\n",
       " <td class=\"rankings-block__banner--rating u-text-right\">\n",
       "                             123\n",
       "                             <span class=\"circle-branding circle-branding--top\"></span>\n",
       " <span class=\"circle-branding circle-branding--bottom\"></span>\n",
       " </td>\n",
       " </tr>,\n",
       " <tr class=\"table-body\" data-team-id=\"14\">\n",
       " <td class=\"table-body__cell table-body__cell--position u-text-right\">2</td>\n",
       " <td class=\"table-body__cell rankings-table__team\">\n",
       " <span class=\"flag-15 table-body_logo IND\"></span>\n",
       " <span class=\"u-hide-phablet\">India</span>\n",
       " <span class=\"u-show-phablet\">IND</span>\n",
       " </td>\n",
       " <td class=\"table-body__cell u-center-text\">52</td>\n",
       " <td class=\"table-body__cell u-center-text\">6,102</td>\n",
       " <td class=\"table-body__cell u-text-right rating\">117</td>\n",
       " </tr>,\n",
       " <tr class=\"table-body\" data-team-id=\"16\">\n",
       " <td class=\"table-body__cell table-body__cell--position u-text-right\">3</td>\n",
       " <td class=\"table-body__cell rankings-table__team\">\n",
       " <span class=\"flag-15 table-body_logo NZ\"></span>\n",
       " <span class=\"u-hide-phablet\">New Zealand</span>\n",
       " <span class=\"u-show-phablet\">NZ</span>\n",
       " </td>\n",
       " <td class=\"table-body__cell u-center-text\">33</td>\n",
       " <td class=\"table-body__cell u-center-text\">3,857</td>\n",
       " <td class=\"table-body__cell u-text-right rating\">117</td>\n",
       " </tr>,\n",
       " <tr class=\"table-body\" data-team-id=\"15\">\n",
       " <td class=\"table-body__cell table-body__cell--position u-text-right\">4</td>\n",
       " <td class=\"table-body__cell rankings-table__team\">\n",
       " <span class=\"flag-15 table-body_logo AUS\"></span>\n",
       " <span class=\"u-hide-phablet\">Australia</span>\n",
       " <span class=\"u-show-phablet\">AUS</span>\n",
       " </td>\n",
       " <td class=\"table-body__cell u-center-text\">39</td>\n",
       " <td class=\"table-body__cell u-center-text\">4,344</td>\n",
       " <td class=\"table-body__cell u-text-right rating\">111</td>\n",
       " </tr>,\n",
       " <tr class=\"table-body\" data-team-id=\"19\">\n",
       " <td class=\"table-body__cell table-body__cell--position u-text-right\">5</td>\n",
       " <td class=\"table-body__cell rankings-table__team\">\n",
       " <span class=\"flag-15 table-body_logo SA\"></span>\n",
       " <span class=\"u-hide-phablet\">South Africa</span>\n",
       " <span class=\"u-show-phablet\">SA</span>\n",
       " </td>\n",
       " <td class=\"table-body__cell u-center-text\">31</td>\n",
       " <td class=\"table-body__cell u-center-text\">3,345</td>\n",
       " <td class=\"table-body__cell u-text-right rating\">108</td>\n",
       " </tr>,\n",
       " <tr class=\"table-body\" data-team-id=\"20\">\n",
       " <td class=\"table-body__cell table-body__cell--position u-text-right\">6</td>\n",
       " <td class=\"table-body__cell rankings-table__team\">\n",
       " <span class=\"flag-15 table-body_logo PAK\"></span>\n",
       " <span class=\"u-hide-phablet\">Pakistan</span>\n",
       " <span class=\"u-show-phablet\">PAK</span>\n",
       " </td>\n",
       " <td class=\"table-body__cell u-center-text\">35</td>\n",
       " <td class=\"table-body__cell u-center-text\">3,490</td>\n",
       " <td class=\"table-body__cell u-text-right rating\">100</td>\n",
       " </tr>,\n",
       " <tr class=\"table-body\" data-team-id=\"22\">\n",
       " <td class=\"table-body__cell table-body__cell--position u-text-right\">7</td>\n",
       " <td class=\"table-body__cell rankings-table__team\">\n",
       " <span class=\"flag-15 table-body_logo BAN\"></span>\n",
       " <span class=\"u-hide-phablet\">Bangladesh</span>\n",
       " <span class=\"u-show-phablet\">BAN</span>\n",
       " </td>\n",
       " <td class=\"table-body__cell u-center-text\">38</td>\n",
       " <td class=\"table-body__cell u-center-text\">3,432</td>\n",
       " <td class=\"table-body__cell u-text-right rating\">90</td>\n",
       " </tr>,\n",
       " <tr class=\"table-body\" data-team-id=\"13\">\n",
       " <td class=\"table-body__cell table-body__cell--position u-text-right\">8</td>\n",
       " <td class=\"table-body__cell rankings-table__team\">\n",
       " <span class=\"flag-15 table-body_logo SL\"></span>\n",
       " <span class=\"u-hide-phablet\">Sri Lanka</span>\n",
       " <span class=\"u-show-phablet\">SL</span>\n",
       " </td>\n",
       " <td class=\"table-body__cell u-center-text\">42</td>\n",
       " <td class=\"table-body__cell u-center-text\">3,372</td>\n",
       " <td class=\"table-body__cell u-text-right rating\">80</td>\n",
       " </tr>,\n",
       " <tr class=\"table-body\" data-team-id=\"21\">\n",
       " <td class=\"table-body__cell table-body__cell--position u-text-right\">9</td>\n",
       " <td class=\"table-body__cell rankings-table__team\">\n",
       " <span class=\"flag-15 table-body_logo WI\"></span>\n",
       " <span class=\"u-hide-phablet\">West Indies</span>\n",
       " <span class=\"u-show-phablet\">WI</span>\n",
       " </td>\n",
       " <td class=\"table-body__cell u-center-text\">49</td>\n",
       " <td class=\"table-body__cell u-center-text\">3,802</td>\n",
       " <td class=\"table-body__cell u-text-right rating\">78</td>\n",
       " </tr>,\n",
       " <tr class=\"table-body\" data-team-id=\"17\">\n",
       " <td class=\"table-body__cell table-body__cell--position u-text-right\">10</td>\n",
       " <td class=\"table-body__cell rankings-table__team\">\n",
       " <span class=\"flag-15 table-body_logo AFG\"></span>\n",
       " <span class=\"u-hide-phablet\">Afghanistan</span>\n",
       " <span class=\"u-show-phablet\">AFG</span>\n",
       " </td>\n",
       " <td class=\"table-body__cell u-center-text\">31</td>\n",
       " <td class=\"table-body__cell u-center-text\">1,844</td>\n",
       " <td class=\"table-body__cell u-text-right rating\">59</td>\n",
       " </tr>]"
      ]
     },
     "execution_count": 291,
     "metadata": {},
     "output_type": "execute_result"
    }
   ],
   "source": [
    "icc_cricket"
   ]
  },
  {
   "cell_type": "code",
   "execution_count": 292,
   "metadata": {},
   "outputs": [
    {
     "data": {
      "text/plain": [
       "['England',\n",
       " 'India',\n",
       " 'New Zealand',\n",
       " 'Australia',\n",
       " 'South Africa',\n",
       " 'Pakistan',\n",
       " 'Bangladesh',\n",
       " 'Sri Lanka',\n",
       " 'West Indies',\n",
       " 'Afghanistan']"
      ]
     },
     "execution_count": 292,
     "metadata": {},
     "output_type": "execute_result"
    }
   ],
   "source": [
    "Team_names = []\n",
    "for container in icc_cricket:\n",
    "    name = container.find('span',class_='u-hide-phablet').text\n",
    "    Team_names.append(name)\n",
    "Team_names"
   ]
  },
  {
   "cell_type": "code",
   "execution_count": 293,
   "metadata": {},
   "outputs": [
    {
     "data": {
      "text/plain": [
       "['44', '52', '33', '39', '31', '35', '38', '42', '49', '31']"
      ]
     },
     "execution_count": 293,
     "metadata": {},
     "output_type": "execute_result"
    }
   ],
   "source": [
    "matches = []\n",
    "for container in icc_cricket:\n",
    "    match = container.find(\"td\", {\"class\":[\"rankings-block__banner--matches\",\"table-body__cell u-center-text\"]}).text\n",
    "    matches.append(match)\n",
    "matches"
   ]
  },
  {
   "cell_type": "code",
   "execution_count": 346,
   "metadata": {},
   "outputs": [],
   "source": [
    "import re"
   ]
  },
  {
   "cell_type": "code",
   "execution_count": 354,
   "metadata": {},
   "outputs": [
    {
     "data": {
      "text/plain": [
       "['5,405',\n",
       " '6,102',\n",
       " '3,857',\n",
       " '4,344',\n",
       " '3,345',\n",
       " '3,490',\n",
       " '3,432',\n",
       " '3,372',\n",
       " '3,802',\n",
       " '1,844']"
      ]
     },
     "execution_count": 354,
     "metadata": {},
     "output_type": "execute_result"
    }
   ],
   "source": [
    "points = []\n",
    "i = 1\n",
    "for container in icc_cricket:\n",
    "    point = container.findAll(\"td\", {\"class\":[\"rankings-block__banner--points\",\"table-body__cell u-center-text\"]})\n",
    "    if(i):\n",
    "        point = point[0].text\n",
    "    else:\n",
    "        point = point[1].text\n",
    "    i=0\n",
    "    points.append(point)\n",
    "points"
   ]
  },
  {
   "cell_type": "code",
   "execution_count": 257,
   "metadata": {},
   "outputs": [
    {
     "data": {
      "text/plain": [
       "['123', '117', '117', '111', '108', '100', '90', '80', '78', '59']"
      ]
     },
     "execution_count": 257,
     "metadata": {},
     "output_type": "execute_result"
    }
   ],
   "source": [
    "ratings = []\n",
    "for container in icc_cricket:\n",
    "    rating = container.find(\"td\",{\"class\":[\"rankings-block__banner--rating u-text-right\",\"table-body__cell u-text-right rating\"]}).text\n",
    "    ratings.append(rating.strip())\n",
    "ratings"
   ]
  },
  {
   "cell_type": "code",
   "execution_count": 355,
   "metadata": {},
   "outputs": [],
   "source": [
    "Odi_mens = {\n",
    "    \"Team_names\":Team_names,\n",
    "    \"matches\":matches,\n",
    "    \"points\":points,\n",
    "    \"ratings\":ratings\n",
    "}"
   ]
  },
  {
   "cell_type": "code",
   "execution_count": 356,
   "metadata": {},
   "outputs": [
    {
     "data": {
      "text/html": [
       "<div>\n",
       "<style scoped>\n",
       "    .dataframe tbody tr th:only-of-type {\n",
       "        vertical-align: middle;\n",
       "    }\n",
       "\n",
       "    .dataframe tbody tr th {\n",
       "        vertical-align: top;\n",
       "    }\n",
       "\n",
       "    .dataframe thead th {\n",
       "        text-align: right;\n",
       "    }\n",
       "</style>\n",
       "<table border=\"1\" class=\"dataframe\">\n",
       "  <thead>\n",
       "    <tr style=\"text-align: right;\">\n",
       "      <th></th>\n",
       "      <th>Team_names</th>\n",
       "      <th>matches</th>\n",
       "      <th>points</th>\n",
       "      <th>ratings</th>\n",
       "    </tr>\n",
       "    <tr>\n",
       "      <th>Rank</th>\n",
       "      <th></th>\n",
       "      <th></th>\n",
       "      <th></th>\n",
       "      <th></th>\n",
       "    </tr>\n",
       "  </thead>\n",
       "  <tbody>\n",
       "    <tr>\n",
       "      <th>1</th>\n",
       "      <td>England</td>\n",
       "      <td>44</td>\n",
       "      <td>5,405</td>\n",
       "      <td>123</td>\n",
       "    </tr>\n",
       "    <tr>\n",
       "      <th>2</th>\n",
       "      <td>India</td>\n",
       "      <td>52</td>\n",
       "      <td>6,102</td>\n",
       "      <td>117</td>\n",
       "    </tr>\n",
       "    <tr>\n",
       "      <th>3</th>\n",
       "      <td>New Zealand</td>\n",
       "      <td>33</td>\n",
       "      <td>3,857</td>\n",
       "      <td>117</td>\n",
       "    </tr>\n",
       "    <tr>\n",
       "      <th>4</th>\n",
       "      <td>Australia</td>\n",
       "      <td>39</td>\n",
       "      <td>4,344</td>\n",
       "      <td>111</td>\n",
       "    </tr>\n",
       "    <tr>\n",
       "      <th>5</th>\n",
       "      <td>South Africa</td>\n",
       "      <td>31</td>\n",
       "      <td>3,345</td>\n",
       "      <td>108</td>\n",
       "    </tr>\n",
       "    <tr>\n",
       "      <th>6</th>\n",
       "      <td>Pakistan</td>\n",
       "      <td>35</td>\n",
       "      <td>3,490</td>\n",
       "      <td>100</td>\n",
       "    </tr>\n",
       "    <tr>\n",
       "      <th>7</th>\n",
       "      <td>Bangladesh</td>\n",
       "      <td>38</td>\n",
       "      <td>3,432</td>\n",
       "      <td>90</td>\n",
       "    </tr>\n",
       "    <tr>\n",
       "      <th>8</th>\n",
       "      <td>Sri Lanka</td>\n",
       "      <td>42</td>\n",
       "      <td>3,372</td>\n",
       "      <td>80</td>\n",
       "    </tr>\n",
       "    <tr>\n",
       "      <th>9</th>\n",
       "      <td>West Indies</td>\n",
       "      <td>49</td>\n",
       "      <td>3,802</td>\n",
       "      <td>78</td>\n",
       "    </tr>\n",
       "    <tr>\n",
       "      <th>10</th>\n",
       "      <td>Afghanistan</td>\n",
       "      <td>31</td>\n",
       "      <td>1,844</td>\n",
       "      <td>59</td>\n",
       "    </tr>\n",
       "  </tbody>\n",
       "</table>\n",
       "</div>"
      ],
      "text/plain": [
       "        Team_names matches points ratings\n",
       "Rank                                     \n",
       "1          England      44  5,405     123\n",
       "2            India      52  6,102     117\n",
       "3      New Zealand      33  3,857     117\n",
       "4        Australia      39  4,344     111\n",
       "5     South Africa      31  3,345     108\n",
       "6         Pakistan      35  3,490     100\n",
       "7       Bangladesh      38  3,432      90\n",
       "8        Sri Lanka      42  3,372      80\n",
       "9      West Indies      49  3,802      78\n",
       "10     Afghanistan      31  1,844      59"
      ]
     },
     "execution_count": 356,
     "metadata": {},
     "output_type": "execute_result"
    }
   ],
   "source": [
    "df = pd.DataFrame(Odi_mens,columns = ['Team_names', 'matches','points','ratings']) \n",
    "df.index = np.arange(1, len(df) + 1)\n",
    "df.index.name = \"Rank\"\n",
    "df"
   ]
  },
  {
   "cell_type": "code",
   "execution_count": 383,
   "metadata": {},
   "outputs": [],
   "source": []
  },
  {
   "cell_type": "code",
   "execution_count": null,
   "metadata": {},
   "outputs": [],
   "source": []
  },
  {
   "cell_type": "code",
   "execution_count": null,
   "metadata": {},
   "outputs": [],
   "source": []
  },
  {
   "cell_type": "code",
   "execution_count": null,
   "metadata": {},
   "outputs": [],
   "source": []
  },
  {
   "cell_type": "code",
   "execution_count": null,
   "metadata": {},
   "outputs": [],
   "source": []
  },
  {
   "cell_type": "code",
   "execution_count": 384,
   "metadata": {},
   "outputs": [],
   "source": [
    "icc_batsman = soup.find_all([\"div\", \"td\"],{\"class\":[\"rankings-block__banner--name-large\",\"table-body__cell rankings-table__name\"]})"
   ]
  },
  {
   "cell_type": "code",
   "execution_count": 385,
   "metadata": {},
   "outputs": [
    {
     "data": {
      "text/plain": [
       "[<div class=\"rankings-block__banner--name-large\">Virat Kohli</div>]"
      ]
     },
     "execution_count": 385,
     "metadata": {},
     "output_type": "execute_result"
    }
   ],
   "source": [
    "icc_batsman"
   ]
  },
  {
   "cell_type": "code",
   "execution_count": null,
   "metadata": {},
   "outputs": [],
   "source": []
  }
 ],
 "metadata": {
  "kernelspec": {
   "display_name": "Python 3",
   "language": "python",
   "name": "python3"
  },
  "language_info": {
   "codemirror_mode": {
    "name": "ipython",
    "version": 3
   },
   "file_extension": ".py",
   "mimetype": "text/x-python",
   "name": "python",
   "nbconvert_exporter": "python",
   "pygments_lexer": "ipython3",
   "version": "3.7.6"
  }
 },
 "nbformat": 4,
 "nbformat_minor": 4
}
