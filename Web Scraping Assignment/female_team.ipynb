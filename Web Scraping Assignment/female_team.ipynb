{
 "cells": [
  {
   "cell_type": "markdown",
   "metadata": {},
   "source": [
    "## Top 10 teams with rating matches and points"
   ]
  },
  {
   "cell_type": "code",
   "execution_count": 13,
   "metadata": {},
   "outputs": [],
   "source": [
    "import pandas as pd\n",
    "import numpy as np\n",
    "import requests\n",
    "from requests import get\n",
    "from bs4 import BeautifulSoup"
   ]
  },
  {
   "cell_type": "code",
   "execution_count": 3,
   "metadata": {},
   "outputs": [],
   "source": [
    "page = requests.get(\"https://www.icc-cricket.com/rankings/womens/team-rankings/odi\")\n",
    "soup = BeautifulSoup(page.text, 'html.parser')"
   ]
  },
  {
   "cell_type": "code",
   "execution_count": 4,
   "metadata": {},
   "outputs": [],
   "source": [
    "icc_cricket = soup.find_all(\"tr\", {\"class\":[\"rankings-block__banner\", \"table-body\"]},limit=10)"
   ]
  },
  {
   "cell_type": "code",
   "execution_count": 5,
   "metadata": {
    "scrolled": true
   },
   "outputs": [
    {
     "data": {
      "text/plain": [
       "[<tr class=\"rankings-block__banner\">\n",
       " <td class=\"rankings-block__banner--pos\">1</td>\n",
       " <td class=\"rankings-block__banner--team-name\">\n",
       " <span class=\"flag-30 rankings-block__banner--flag AUS\"></span>\n",
       " <span class=\"u-hide-phablet\">Australia</span>\n",
       " <span class=\"u-show-phablet\">AUS</span>\n",
       " </td>\n",
       " <td class=\"rankings-block__banner--matches\">15</td>\n",
       " <td class=\"rankings-block__banner--points\">2,436</td>\n",
       " <td class=\"rankings-block__banner--rating u-text-right\">\n",
       "                             162\n",
       "                             <span class=\"circle-branding circle-branding--top\"></span>\n",
       " <span class=\"circle-branding circle-branding--bottom\"></span>\n",
       " </td>\n",
       " </tr>,\n",
       " <tr class=\"table-body\" data-team-id=\"25\">\n",
       " <td class=\"table-body__cell table-body__cell--position u-text-right\">2</td>\n",
       " <td class=\"table-body__cell rankings-table__team\">\n",
       " <span class=\"flag-15 table-body_logo SA\"></span>\n",
       " <span class=\"u-hide-phablet\">South Africa</span>\n",
       " <span class=\"u-show-phablet\">SA</span>\n",
       " </td>\n",
       " <td class=\"table-body__cell u-center-text\">24</td>\n",
       " <td class=\"table-body__cell u-center-text\">2,828</td>\n",
       " <td class=\"table-body__cell u-text-right rating\">118</td>\n",
       " </tr>,\n",
       " <tr class=\"table-body\" data-team-id=\"28\">\n",
       " <td class=\"table-body__cell table-body__cell--position u-text-right\">3</td>\n",
       " <td class=\"table-body__cell rankings-table__team\">\n",
       " <span class=\"flag-15 table-body_logo ENG\"></span>\n",
       " <span class=\"u-hide-phablet\">England</span>\n",
       " <span class=\"u-show-phablet\">ENG</span>\n",
       " </td>\n",
       " <td class=\"table-body__cell u-center-text\">17</td>\n",
       " <td class=\"table-body__cell u-center-text\">1,993</td>\n",
       " <td class=\"table-body__cell u-text-right rating\">117</td>\n",
       " </tr>,\n",
       " <tr class=\"table-body\" data-team-id=\"31\">\n",
       " <td class=\"table-body__cell table-body__cell--position u-text-right\">4</td>\n",
       " <td class=\"table-body__cell rankings-table__team\">\n",
       " <span class=\"flag-15 table-body_logo IND\"></span>\n",
       " <span class=\"u-hide-phablet\">India</span>\n",
       " <span class=\"u-show-phablet\">IND</span>\n",
       " </td>\n",
       " <td class=\"table-body__cell u-center-text\">20</td>\n",
       " <td class=\"table-body__cell u-center-text\">2,226</td>\n",
       " <td class=\"table-body__cell u-text-right rating\">111</td>\n",
       " </tr>,\n",
       " <tr class=\"table-body\" data-team-id=\"26\">\n",
       " <td class=\"table-body__cell table-body__cell--position u-text-right\">5</td>\n",
       " <td class=\"table-body__cell rankings-table__team\">\n",
       " <span class=\"flag-15 table-body_logo NZ\"></span>\n",
       " <span class=\"u-hide-phablet\">New Zealand</span>\n",
       " <span class=\"u-show-phablet\">NZ</span>\n",
       " </td>\n",
       " <td class=\"table-body__cell u-center-text\">18</td>\n",
       " <td class=\"table-body__cell u-center-text\">1,696</td>\n",
       " <td class=\"table-body__cell u-text-right rating\">94</td>\n",
       " </tr>,\n",
       " <tr class=\"table-body\" data-team-id=\"27\">\n",
       " <td class=\"table-body__cell table-body__cell--position u-text-right\">6</td>\n",
       " <td class=\"table-body__cell rankings-table__team\">\n",
       " <span class=\"flag-15 table-body_logo WI\"></span>\n",
       " <span class=\"u-hide-phablet\">West Indies</span>\n",
       " <span class=\"u-show-phablet\">WI</span>\n",
       " </td>\n",
       " <td class=\"table-body__cell u-center-text\">12</td>\n",
       " <td class=\"table-body__cell u-center-text\">1,025</td>\n",
       " <td class=\"table-body__cell u-text-right rating\">85</td>\n",
       " </tr>,\n",
       " <tr class=\"table-body\" data-team-id=\"29\">\n",
       " <td class=\"table-body__cell table-body__cell--position u-text-right\">7</td>\n",
       " <td class=\"table-body__cell rankings-table__team\">\n",
       " <span class=\"flag-15 table-body_logo PAK\"></span>\n",
       " <span class=\"u-hide-phablet\">Pakistan</span>\n",
       " <span class=\"u-show-phablet\">PAK</span>\n",
       " </td>\n",
       " <td class=\"table-body__cell u-center-text\">15</td>\n",
       " <td class=\"table-body__cell u-center-text\">1,101</td>\n",
       " <td class=\"table-body__cell u-text-right rating\">73</td>\n",
       " </tr>,\n",
       " <tr class=\"table-body\" data-team-id=\"170\">\n",
       " <td class=\"table-body__cell table-body__cell--position u-text-right\">8</td>\n",
       " <td class=\"table-body__cell rankings-table__team\">\n",
       " <span class=\"flag-15 table-body_logo BAN\"></span>\n",
       " <span class=\"u-hide-phablet\">Bangladesh</span>\n",
       " <span class=\"u-show-phablet\">BAN</span>\n",
       " </td>\n",
       " <td class=\"table-body__cell u-center-text\">5</td>\n",
       " <td class=\"table-body__cell u-center-text\">306</td>\n",
       " <td class=\"table-body__cell u-text-right rating\">61</td>\n",
       " </tr>,\n",
       " <tr class=\"table-body\" data-team-id=\"24\">\n",
       " <td class=\"table-body__cell table-body__cell--position u-text-right\">9</td>\n",
       " <td class=\"table-body__cell rankings-table__team\">\n",
       " <span class=\"flag-15 table-body_logo SL\"></span>\n",
       " <span class=\"u-hide-phablet\">Sri Lanka</span>\n",
       " <span class=\"u-show-phablet\">SL</span>\n",
       " </td>\n",
       " <td class=\"table-body__cell u-center-text\">11</td>\n",
       " <td class=\"table-body__cell u-center-text\">519</td>\n",
       " <td class=\"table-body__cell u-text-right rating\">47</td>\n",
       " </tr>,\n",
       " <tr class=\"table-body\" data-team-id=\"162\">\n",
       " <td class=\"table-body__cell table-body__cell--position u-text-right\">10</td>\n",
       " <td class=\"table-body__cell rankings-table__team\">\n",
       " <span class=\"flag-15 table-body_logo IRE\"></span>\n",
       " <span class=\"u-hide-phablet\">Ireland</span>\n",
       " <span class=\"u-show-phablet\">IRE</span>\n",
       " </td>\n",
       " <td class=\"table-body__cell u-center-text\">2</td>\n",
       " <td class=\"table-body__cell u-center-text\">25</td>\n",
       " <td class=\"table-body__cell u-text-right rating\">13</td>\n",
       " </tr>]"
      ]
     },
     "execution_count": 5,
     "metadata": {},
     "output_type": "execute_result"
    }
   ],
   "source": [
    "icc_cricket"
   ]
  },
  {
   "cell_type": "code",
   "execution_count": 6,
   "metadata": {},
   "outputs": [
    {
     "data": {
      "text/plain": [
       "['Australia',\n",
       " 'South Africa',\n",
       " 'England',\n",
       " 'India',\n",
       " 'New Zealand',\n",
       " 'West Indies',\n",
       " 'Pakistan',\n",
       " 'Bangladesh',\n",
       " 'Sri Lanka',\n",
       " 'Ireland']"
      ]
     },
     "execution_count": 6,
     "metadata": {},
     "output_type": "execute_result"
    }
   ],
   "source": [
    "Team_names = []\n",
    "for container in icc_cricket:\n",
    "    name = container.find('span',class_='u-hide-phablet').text\n",
    "    Team_names.append(name)\n",
    "Team_names"
   ]
  },
  {
   "cell_type": "code",
   "execution_count": 7,
   "metadata": {},
   "outputs": [
    {
     "data": {
      "text/plain": [
       "['15', '24', '17', '20', '18', '12', '15', '5', '11', '2']"
      ]
     },
     "execution_count": 7,
     "metadata": {},
     "output_type": "execute_result"
    }
   ],
   "source": [
    "matches = []\n",
    "for container in icc_cricket:\n",
    "    match = container.find(\"td\", {\"class\":[\"rankings-block__banner--matches\",\"table-body__cell u-center-text\"]}).text\n",
    "    matches.append(match)\n",
    "matches"
   ]
  },
  {
   "cell_type": "code",
   "execution_count": 8,
   "metadata": {},
   "outputs": [
    {
     "data": {
      "text/plain": [
       "['2,436',\n",
       " '2,828',\n",
       " '1,993',\n",
       " '2,226',\n",
       " '1,696',\n",
       " '1,025',\n",
       " '1,101',\n",
       " '306',\n",
       " '519',\n",
       " '25']"
      ]
     },
     "execution_count": 8,
     "metadata": {},
     "output_type": "execute_result"
    }
   ],
   "source": [
    "points = []\n",
    "i = 1\n",
    "for container in icc_cricket:\n",
    "    point = container.findAll(\"td\", {\"class\":[\"rankings-block__banner--points\",\"table-body__cell u-center-text\"]})\n",
    "    if(i):\n",
    "        point = point[0].text\n",
    "    else:\n",
    "        point = point[1].text\n",
    "    i=0\n",
    "    points.append(point)\n",
    "points"
   ]
  },
  {
   "cell_type": "code",
   "execution_count": 9,
   "metadata": {},
   "outputs": [
    {
     "data": {
      "text/plain": [
       "['162', '118', '117', '111', '94', '85', '73', '61', '47', '13']"
      ]
     },
     "execution_count": 9,
     "metadata": {},
     "output_type": "execute_result"
    }
   ],
   "source": [
    "ratings = []\n",
    "for container in icc_cricket:\n",
    "    rating = container.find(\"td\",{\"class\":[\"rankings-block__banner--rating u-text-right\",\"table-body__cell u-text-right rating\"]}).text\n",
    "    ratings.append(rating.strip())\n",
    "ratings"
   ]
  },
  {
   "cell_type": "code",
   "execution_count": 10,
   "metadata": {},
   "outputs": [],
   "source": [
    "Odi_womens = {\n",
    "    \"Team_names\":Team_names,\n",
    "    \"matches\":matches,\n",
    "    \"points\":points,\n",
    "    \"ratings\":ratings\n",
    "}"
   ]
  },
  {
   "cell_type": "code",
   "execution_count": 14,
   "metadata": {},
   "outputs": [
    {
     "data": {
      "text/html": [
       "<div>\n",
       "<style scoped>\n",
       "    .dataframe tbody tr th:only-of-type {\n",
       "        vertical-align: middle;\n",
       "    }\n",
       "\n",
       "    .dataframe tbody tr th {\n",
       "        vertical-align: top;\n",
       "    }\n",
       "\n",
       "    .dataframe thead th {\n",
       "        text-align: right;\n",
       "    }\n",
       "</style>\n",
       "<table border=\"1\" class=\"dataframe\">\n",
       "  <thead>\n",
       "    <tr style=\"text-align: right;\">\n",
       "      <th></th>\n",
       "      <th>Team_names</th>\n",
       "      <th>matches</th>\n",
       "      <th>points</th>\n",
       "      <th>ratings</th>\n",
       "    </tr>\n",
       "    <tr>\n",
       "      <th>Rank</th>\n",
       "      <th></th>\n",
       "      <th></th>\n",
       "      <th></th>\n",
       "      <th></th>\n",
       "    </tr>\n",
       "  </thead>\n",
       "  <tbody>\n",
       "    <tr>\n",
       "      <th>1</th>\n",
       "      <td>Australia</td>\n",
       "      <td>15</td>\n",
       "      <td>2,436</td>\n",
       "      <td>162</td>\n",
       "    </tr>\n",
       "    <tr>\n",
       "      <th>2</th>\n",
       "      <td>South Africa</td>\n",
       "      <td>24</td>\n",
       "      <td>2,828</td>\n",
       "      <td>118</td>\n",
       "    </tr>\n",
       "    <tr>\n",
       "      <th>3</th>\n",
       "      <td>England</td>\n",
       "      <td>17</td>\n",
       "      <td>1,993</td>\n",
       "      <td>117</td>\n",
       "    </tr>\n",
       "    <tr>\n",
       "      <th>4</th>\n",
       "      <td>India</td>\n",
       "      <td>20</td>\n",
       "      <td>2,226</td>\n",
       "      <td>111</td>\n",
       "    </tr>\n",
       "    <tr>\n",
       "      <th>5</th>\n",
       "      <td>New Zealand</td>\n",
       "      <td>18</td>\n",
       "      <td>1,696</td>\n",
       "      <td>94</td>\n",
       "    </tr>\n",
       "    <tr>\n",
       "      <th>6</th>\n",
       "      <td>West Indies</td>\n",
       "      <td>12</td>\n",
       "      <td>1,025</td>\n",
       "      <td>85</td>\n",
       "    </tr>\n",
       "    <tr>\n",
       "      <th>7</th>\n",
       "      <td>Pakistan</td>\n",
       "      <td>15</td>\n",
       "      <td>1,101</td>\n",
       "      <td>73</td>\n",
       "    </tr>\n",
       "    <tr>\n",
       "      <th>8</th>\n",
       "      <td>Bangladesh</td>\n",
       "      <td>5</td>\n",
       "      <td>306</td>\n",
       "      <td>61</td>\n",
       "    </tr>\n",
       "    <tr>\n",
       "      <th>9</th>\n",
       "      <td>Sri Lanka</td>\n",
       "      <td>11</td>\n",
       "      <td>519</td>\n",
       "      <td>47</td>\n",
       "    </tr>\n",
       "    <tr>\n",
       "      <th>10</th>\n",
       "      <td>Ireland</td>\n",
       "      <td>2</td>\n",
       "      <td>25</td>\n",
       "      <td>13</td>\n",
       "    </tr>\n",
       "  </tbody>\n",
       "</table>\n",
       "</div>"
      ],
      "text/plain": [
       "        Team_names matches points ratings\n",
       "Rank                                     \n",
       "1        Australia      15  2,436     162\n",
       "2     South Africa      24  2,828     118\n",
       "3          England      17  1,993     117\n",
       "4            India      20  2,226     111\n",
       "5      New Zealand      18  1,696      94\n",
       "6      West Indies      12  1,025      85\n",
       "7         Pakistan      15  1,101      73\n",
       "8       Bangladesh       5    306      61\n",
       "9        Sri Lanka      11    519      47\n",
       "10         Ireland       2     25      13"
      ]
     },
     "execution_count": 14,
     "metadata": {},
     "output_type": "execute_result"
    }
   ],
   "source": [
    "df = pd.DataFrame(Odi_womens,columns = ['Team_names', 'matches','points','ratings']) \n",
    "df.index = np.arange(1, len(df) + 1)\n",
    "df.index.name = \"Rank\"\n",
    "df"
   ]
  },
  {
   "cell_type": "markdown",
   "metadata": {},
   "source": [
    "## top 10 womens ODI All-rounders"
   ]
  },
  {
   "cell_type": "code",
   "execution_count": 44,
   "metadata": {},
   "outputs": [],
   "source": [
    "page = requests.get(\"https://www.icc-cricket.com/rankings/womens/player-rankings/odi/all-rounder\")\n",
    "soup = BeautifulSoup(page.text, 'html.parser')"
   ]
  },
  {
   "cell_type": "code",
   "execution_count": 45,
   "metadata": {},
   "outputs": [],
   "source": [
    "AllRounder_div = soup.find_all([\"div\",\"tr\"],{\"class\":[\"rankings-block__banner\", \"table-body\",\"rankings-block__banner--rating\"]},limit=11)"
   ]
  },
  {
   "cell_type": "code",
   "execution_count": 46,
   "metadata": {},
   "outputs": [
    {
     "data": {
      "text/plain": [
       "['Ellyse Perry',\n",
       " 'Stafanie Taylor',\n",
       " 'Marizanne Kapp',\n",
       " 'Deepti Sharma',\n",
       " 'Natalie Sciver',\n",
       " 'Jess Jonassen',\n",
       " 'Sophie Devine',\n",
       " 'Dane van Niekerk',\n",
       " 'Katherine Brunt',\n",
       " 'Ashleigh Gardner']"
      ]
     },
     "execution_count": 46,
     "metadata": {},
     "output_type": "execute_result"
    }
   ],
   "source": [
    "player_names = []\n",
    "for container in AllRounder_div:\n",
    "    name = container.find(['div',\"td\"],class_=['rankings-block__banner--name-large',\"table-body__cell rankings-table__name name\"])\n",
    "    if name is not None:\n",
    "        player_names.append(name.text.strip())\n",
    "    else:\n",
    "        pass\n",
    "    \n",
    "player_names"
   ]
  },
  {
   "cell_type": "code",
   "execution_count": 47,
   "metadata": {},
   "outputs": [
    {
     "data": {
      "text/plain": [
       "['AUS', 'WI', 'SA', 'IND', 'ENG', 'AUS', 'NZ', 'SA', 'ENG', 'AUS']"
      ]
     },
     "execution_count": 47,
     "metadata": {},
     "output_type": "execute_result"
    }
   ],
   "source": [
    "team_name=[]\n",
    "for container in AllRounder_div:\n",
    "    team = container.find(['div',\"span\"],class_=['rankings-block__banner--nationality',\"table-body__logo-text\"])\n",
    "    if team is not None:\n",
    "        team_name.append(team.text.strip())\n",
    "    else:\n",
    "        pass\n",
    "    \n",
    "team_name"
   ]
  },
  {
   "cell_type": "code",
   "execution_count": 49,
   "metadata": {},
   "outputs": [
    {
     "data": {
      "text/plain": [
       "['460', '410', '390', '357', '349', '301', '274', '252', '236', '223']"
      ]
     },
     "execution_count": 49,
     "metadata": {},
     "output_type": "execute_result"
    }
   ],
   "source": [
    "Ratings = []\n",
    "for container in AllRounder_div:\n",
    "    rating = container.find([\"div\",\"td\"],class_=[\"rankings-block__banner--rating\",\"table-body__cell rating\"])\n",
    "    if rating is not None:\n",
    "        Ratings.append(rating.text)\n",
    "    else:\n",
    "        Ratings.append(batting_div[1].text)\n",
    "Ratings.remove('773')\n",
    "Ratings"
   ]
  },
  {
   "cell_type": "code",
   "execution_count": 50,
   "metadata": {},
   "outputs": [
    {
     "data": {
      "text/plain": [
       "{'Name': ['Ellyse Perry',\n",
       "  'Stafanie Taylor',\n",
       "  'Marizanne Kapp',\n",
       "  'Deepti Sharma',\n",
       "  'Natalie Sciver',\n",
       "  'Jess Jonassen',\n",
       "  'Sophie Devine',\n",
       "  'Dane van Niekerk',\n",
       "  'Katherine Brunt',\n",
       "  'Ashleigh Gardner'],\n",
       " 'Team': ['AUS', 'WI', 'SA', 'IND', 'ENG', 'AUS', 'NZ', 'SA', 'ENG', 'AUS'],\n",
       " 'Ratings': ['460',\n",
       "  '410',\n",
       "  '390',\n",
       "  '357',\n",
       "  '349',\n",
       "  '301',\n",
       "  '274',\n",
       "  '252',\n",
       "  '236',\n",
       "  '223']}"
      ]
     },
     "execution_count": 50,
     "metadata": {},
     "output_type": "execute_result"
    }
   ],
   "source": [
    "Data = {\n",
    "    \"Name\": player_names,\n",
    "    \"Team\":team_name,\n",
    "    \"Ratings\":Ratings\n",
    "}\n",
    "Data"
   ]
  },
  {
   "cell_type": "code",
   "execution_count": 51,
   "metadata": {},
   "outputs": [
    {
     "data": {
      "text/html": [
       "<div>\n",
       "<style scoped>\n",
       "    .dataframe tbody tr th:only-of-type {\n",
       "        vertical-align: middle;\n",
       "    }\n",
       "\n",
       "    .dataframe tbody tr th {\n",
       "        vertical-align: top;\n",
       "    }\n",
       "\n",
       "    .dataframe thead th {\n",
       "        text-align: right;\n",
       "    }\n",
       "</style>\n",
       "<table border=\"1\" class=\"dataframe\">\n",
       "  <thead>\n",
       "    <tr style=\"text-align: right;\">\n",
       "      <th></th>\n",
       "      <th>Name</th>\n",
       "      <th>Team</th>\n",
       "      <th>Ratings</th>\n",
       "    </tr>\n",
       "    <tr>\n",
       "      <th>Rank</th>\n",
       "      <th></th>\n",
       "      <th></th>\n",
       "      <th></th>\n",
       "    </tr>\n",
       "  </thead>\n",
       "  <tbody>\n",
       "    <tr>\n",
       "      <th>1</th>\n",
       "      <td>Ellyse Perry</td>\n",
       "      <td>AUS</td>\n",
       "      <td>460</td>\n",
       "    </tr>\n",
       "    <tr>\n",
       "      <th>2</th>\n",
       "      <td>Stafanie Taylor</td>\n",
       "      <td>WI</td>\n",
       "      <td>410</td>\n",
       "    </tr>\n",
       "    <tr>\n",
       "      <th>3</th>\n",
       "      <td>Marizanne Kapp</td>\n",
       "      <td>SA</td>\n",
       "      <td>390</td>\n",
       "    </tr>\n",
       "    <tr>\n",
       "      <th>4</th>\n",
       "      <td>Deepti Sharma</td>\n",
       "      <td>IND</td>\n",
       "      <td>357</td>\n",
       "    </tr>\n",
       "    <tr>\n",
       "      <th>5</th>\n",
       "      <td>Natalie Sciver</td>\n",
       "      <td>ENG</td>\n",
       "      <td>349</td>\n",
       "    </tr>\n",
       "    <tr>\n",
       "      <th>6</th>\n",
       "      <td>Jess Jonassen</td>\n",
       "      <td>AUS</td>\n",
       "      <td>301</td>\n",
       "    </tr>\n",
       "    <tr>\n",
       "      <th>7</th>\n",
       "      <td>Sophie Devine</td>\n",
       "      <td>NZ</td>\n",
       "      <td>274</td>\n",
       "    </tr>\n",
       "    <tr>\n",
       "      <th>8</th>\n",
       "      <td>Dane van Niekerk</td>\n",
       "      <td>SA</td>\n",
       "      <td>252</td>\n",
       "    </tr>\n",
       "    <tr>\n",
       "      <th>9</th>\n",
       "      <td>Katherine Brunt</td>\n",
       "      <td>ENG</td>\n",
       "      <td>236</td>\n",
       "    </tr>\n",
       "    <tr>\n",
       "      <th>10</th>\n",
       "      <td>Ashleigh Gardner</td>\n",
       "      <td>AUS</td>\n",
       "      <td>223</td>\n",
       "    </tr>\n",
       "  </tbody>\n",
       "</table>\n",
       "</div>"
      ],
      "text/plain": [
       "                  Name Team Ratings\n",
       "Rank                               \n",
       "1         Ellyse Perry  AUS     460\n",
       "2      Stafanie Taylor   WI     410\n",
       "3       Marizanne Kapp   SA     390\n",
       "4        Deepti Sharma  IND     357\n",
       "5       Natalie Sciver  ENG     349\n",
       "6        Jess Jonassen  AUS     301\n",
       "7        Sophie Devine   NZ     274\n",
       "8     Dane van Niekerk   SA     252\n",
       "9      Katherine Brunt  ENG     236\n",
       "10    Ashleigh Gardner  AUS     223"
      ]
     },
     "execution_count": 51,
     "metadata": {},
     "output_type": "execute_result"
    }
   ],
   "source": [
    "df = pd.DataFrame(Data,columns = ['Name', 'Team','Ratings']) \n",
    "df.index = np.arange(1, len(df) + 1)\n",
    "df.index.name = \"Rank\"\n",
    "df"
   ]
  },
  {
   "cell_type": "markdown",
   "metadata": {},
   "source": [
    "## top 10 womens ODI players"
   ]
  },
  {
   "cell_type": "code",
   "execution_count": 52,
   "metadata": {},
   "outputs": [],
   "source": [
    "page = requests.get(\"https://www.icc-cricket.com/rankings/womens/player-rankings/odi/batting\")\n",
    "soup = BeautifulSoup(page.text, 'html.parser')"
   ]
  },
  {
   "cell_type": "code",
   "execution_count": 53,
   "metadata": {},
   "outputs": [],
   "source": [
    "batting_div = soup.find_all([\"div\",\"tr\"],{\"class\":[\"rankings-block__banner\", \"table-body\",\"rankings-block__banner--rating\"]},limit=11)"
   ]
  },
  {
   "cell_type": "code",
   "execution_count": 54,
   "metadata": {},
   "outputs": [
    {
     "data": {
      "text/plain": [
       "['Lizelle Lee',\n",
       " 'Tammy Beaumont',\n",
       " 'Meg Lanning',\n",
       " 'Stafanie Taylor',\n",
       " 'Alyssa Healy',\n",
       " 'Amy Satterthwaite',\n",
       " 'Smriti Mandhana',\n",
       " 'Laura Wolvaardt',\n",
       " 'Mithali Raj',\n",
       " 'Ellyse Perry']"
      ]
     },
     "execution_count": 54,
     "metadata": {},
     "output_type": "execute_result"
    }
   ],
   "source": [
    "player_names = []\n",
    "for container in batting_div:\n",
    "    name = container.find(['div',\"td\"],class_=['rankings-block__banner--name-large',\"table-body__cell rankings-table__name name\"])\n",
    "    if name is not None:\n",
    "        player_names.append(name.text.strip())\n",
    "    else:\n",
    "        pass\n",
    "    \n",
    "player_names"
   ]
  },
  {
   "cell_type": "code",
   "execution_count": 56,
   "metadata": {},
   "outputs": [
    {
     "data": {
      "text/plain": [
       "['773', '765', '749', '746', '741', '740', '719', '699', '693', '691']"
      ]
     },
     "execution_count": 56,
     "metadata": {},
     "output_type": "execute_result"
    }
   ],
   "source": [
    "Ratings = []\n",
    "for container in batting_div:\n",
    "    rating = container.find([\"div\",\"td\"],class_=[\"rankings-block__banner--rating\",\"table-body__cell rating\"])\n",
    "    if rating is not None:\n",
    "        Ratings.append(rating.text)\n",
    "    else:\n",
    "        Ratings.append(batting_div[1].text)\n",
    "Ratings.remove('773')\n",
    "Ratings"
   ]
  },
  {
   "cell_type": "code",
   "execution_count": 57,
   "metadata": {},
   "outputs": [
    {
     "data": {
      "text/plain": [
       "{'Name': ['Lizelle Lee',\n",
       "  'Tammy Beaumont',\n",
       "  'Meg Lanning',\n",
       "  'Stafanie Taylor',\n",
       "  'Alyssa Healy',\n",
       "  'Amy Satterthwaite',\n",
       "  'Smriti Mandhana',\n",
       "  'Laura Wolvaardt',\n",
       "  'Mithali Raj',\n",
       "  'Ellyse Perry'],\n",
       " 'Team': ['AUS', 'WI', 'SA', 'IND', 'ENG', 'AUS', 'NZ', 'SA', 'ENG', 'AUS'],\n",
       " 'Ratings': ['773',\n",
       "  '765',\n",
       "  '749',\n",
       "  '746',\n",
       "  '741',\n",
       "  '740',\n",
       "  '719',\n",
       "  '699',\n",
       "  '693',\n",
       "  '691']}"
      ]
     },
     "execution_count": 57,
     "metadata": {},
     "output_type": "execute_result"
    }
   ],
   "source": [
    "Data = {\n",
    "    \"Name\": player_names,\n",
    "    \"Team\":team_name,\n",
    "    \"Ratings\":Ratings\n",
    "}\n",
    "Data"
   ]
  },
  {
   "cell_type": "code",
   "execution_count": 58,
   "metadata": {},
   "outputs": [
    {
     "data": {
      "text/html": [
       "<div>\n",
       "<style scoped>\n",
       "    .dataframe tbody tr th:only-of-type {\n",
       "        vertical-align: middle;\n",
       "    }\n",
       "\n",
       "    .dataframe tbody tr th {\n",
       "        vertical-align: top;\n",
       "    }\n",
       "\n",
       "    .dataframe thead th {\n",
       "        text-align: right;\n",
       "    }\n",
       "</style>\n",
       "<table border=\"1\" class=\"dataframe\">\n",
       "  <thead>\n",
       "    <tr style=\"text-align: right;\">\n",
       "      <th></th>\n",
       "      <th>Name</th>\n",
       "      <th>Team</th>\n",
       "      <th>Ratings</th>\n",
       "    </tr>\n",
       "    <tr>\n",
       "      <th>Rank</th>\n",
       "      <th></th>\n",
       "      <th></th>\n",
       "      <th></th>\n",
       "    </tr>\n",
       "  </thead>\n",
       "  <tbody>\n",
       "    <tr>\n",
       "      <th>1</th>\n",
       "      <td>Lizelle Lee</td>\n",
       "      <td>AUS</td>\n",
       "      <td>773</td>\n",
       "    </tr>\n",
       "    <tr>\n",
       "      <th>2</th>\n",
       "      <td>Tammy Beaumont</td>\n",
       "      <td>WI</td>\n",
       "      <td>765</td>\n",
       "    </tr>\n",
       "    <tr>\n",
       "      <th>3</th>\n",
       "      <td>Meg Lanning</td>\n",
       "      <td>SA</td>\n",
       "      <td>749</td>\n",
       "    </tr>\n",
       "    <tr>\n",
       "      <th>4</th>\n",
       "      <td>Stafanie Taylor</td>\n",
       "      <td>IND</td>\n",
       "      <td>746</td>\n",
       "    </tr>\n",
       "    <tr>\n",
       "      <th>5</th>\n",
       "      <td>Alyssa Healy</td>\n",
       "      <td>ENG</td>\n",
       "      <td>741</td>\n",
       "    </tr>\n",
       "    <tr>\n",
       "      <th>6</th>\n",
       "      <td>Amy Satterthwaite</td>\n",
       "      <td>AUS</td>\n",
       "      <td>740</td>\n",
       "    </tr>\n",
       "    <tr>\n",
       "      <th>7</th>\n",
       "      <td>Smriti Mandhana</td>\n",
       "      <td>NZ</td>\n",
       "      <td>719</td>\n",
       "    </tr>\n",
       "    <tr>\n",
       "      <th>8</th>\n",
       "      <td>Laura Wolvaardt</td>\n",
       "      <td>SA</td>\n",
       "      <td>699</td>\n",
       "    </tr>\n",
       "    <tr>\n",
       "      <th>9</th>\n",
       "      <td>Mithali Raj</td>\n",
       "      <td>ENG</td>\n",
       "      <td>693</td>\n",
       "    </tr>\n",
       "    <tr>\n",
       "      <th>10</th>\n",
       "      <td>Ellyse Perry</td>\n",
       "      <td>AUS</td>\n",
       "      <td>691</td>\n",
       "    </tr>\n",
       "  </tbody>\n",
       "</table>\n",
       "</div>"
      ],
      "text/plain": [
       "                   Name Team Ratings\n",
       "Rank                                \n",
       "1           Lizelle Lee  AUS     773\n",
       "2        Tammy Beaumont   WI     765\n",
       "3           Meg Lanning   SA     749\n",
       "4       Stafanie Taylor  IND     746\n",
       "5          Alyssa Healy  ENG     741\n",
       "6     Amy Satterthwaite  AUS     740\n",
       "7       Smriti Mandhana   NZ     719\n",
       "8       Laura Wolvaardt   SA     699\n",
       "9           Mithali Raj  ENG     693\n",
       "10         Ellyse Perry  AUS     691"
      ]
     },
     "execution_count": 58,
     "metadata": {},
     "output_type": "execute_result"
    }
   ],
   "source": [
    "df = pd.DataFrame(Data,columns = ['Name', 'Team','Ratings']) \n",
    "df.index = np.arange(1, len(df) + 1)\n",
    "df.index.name = \"Rank\"\n",
    "df"
   ]
  },
  {
   "cell_type": "code",
   "execution_count": null,
   "metadata": {},
   "outputs": [],
   "source": []
  }
 ],
 "metadata": {
  "kernelspec": {
   "display_name": "Python 3",
   "language": "python",
   "name": "python3"
  },
  "language_info": {
   "codemirror_mode": {
    "name": "ipython",
    "version": 3
   },
   "file_extension": ".py",
   "mimetype": "text/x-python",
   "name": "python",
   "nbconvert_exporter": "python",
   "pygments_lexer": "ipython3",
   "version": "3.8.5"
  }
 },
 "nbformat": 4,
 "nbformat_minor": 4
}
