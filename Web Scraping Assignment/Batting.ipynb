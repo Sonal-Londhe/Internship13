{
 "cells": [
  {
   "cell_type": "code",
   "execution_count": 1,
   "metadata": {},
   "outputs": [],
   "source": [
    "import pandas as pd\n",
    "import numpy as np\n",
    "\n",
    "import requests\n",
    "from requests import get\n",
    "from bs4 import BeautifulSoup"
   ]
  },
  {
   "cell_type": "code",
   "execution_count": 99,
   "metadata": {},
   "outputs": [],
   "source": [
    "page = requests.get(\"https://www.icc-cricket.com/rankings/mens/player-rankings/odi/batting\")\n",
    "soup = BeautifulSoup(page.text, 'html.parser')"
   ]
  },
  {
   "cell_type": "code",
   "execution_count": null,
   "metadata": {},
   "outputs": [],
   "source": []
  },
  {
   "cell_type": "code",
   "execution_count": 145,
   "metadata": {},
   "outputs": [],
   "source": [
    "batting_div = soup.find_all([\"div\",\"tr\"],{\"class\":[\"rankings-block__banner\", \"table-body\",\"rankings-block__banner--rating\"]},limit=11)\n",
    "# batting_div = soup.findAll(\"table\",class_=\"table rankings-table\")"
   ]
  },
  {
   "cell_type": "code",
   "execution_count": 146,
   "metadata": {
    "scrolled": true
   },
   "outputs": [
    {
     "data": {
      "text/plain": [
       "<div class=\"rankings-block__banner--rating\">870</div>"
      ]
     },
     "execution_count": 146,
     "metadata": {},
     "output_type": "execute_result"
    }
   ],
   "source": [
    "batting_div[1]"
   ]
  },
  {
   "cell_type": "code",
   "execution_count": 147,
   "metadata": {
    "scrolled": false
   },
   "outputs": [
    {
     "data": {
      "text/plain": [
       "['Virat Kohli',\n",
       " 'Rohit Sharma',\n",
       " 'Babar Azam',\n",
       " 'Ross Taylor',\n",
       " 'Aaron Finch',\n",
       " 'Francois du Plessis',\n",
       " 'David Warner',\n",
       " 'Shai Hope',\n",
       " 'Kane Williamson',\n",
       " 'Quinton de Kock']"
      ]
     },
     "execution_count": 147,
     "metadata": {},
     "output_type": "execute_result"
    }
   ],
   "source": [
    "player_names = []\n",
    "for container in batting_div:\n",
    "    name = container.find(['div',\"td\"],class_=['rankings-block__banner--name-large',\"table-body__cell rankings-table__name name\"])\n",
    "    if name is not None:\n",
    "        player_names.append(name.text.strip())\n",
    "    else:\n",
    "        pass\n",
    "    \n",
    "player_names"
   ]
  },
  {
   "cell_type": "code",
   "execution_count": 148,
   "metadata": {},
   "outputs": [
    {
     "data": {
      "text/plain": [
       "['IND', 'IND', 'PAK', 'NZ', 'AUS', 'SA', 'AUS', 'WI', 'NZ', 'SA']"
      ]
     },
     "execution_count": 148,
     "metadata": {},
     "output_type": "execute_result"
    }
   ],
   "source": [
    "team_name=[]\n",
    "for container in batting_div:\n",
    "    team = container.find(['div',\"span\"],class_=['rankings-block__banner--nationality',\"table-body__logo-text\"])\n",
    "    if team is not None:\n",
    "        team_name.append(team.text.strip())\n",
    "    else:\n",
    "        pass\n",
    "    \n",
    "team_name"
   ]
  },
  {
   "cell_type": "code",
   "execution_count": 149,
   "metadata": {},
   "outputs": [
    {
     "data": {
      "text/plain": [
       "['870', '842', '837', '818', '791', '790', '773', '773', '765', '755']"
      ]
     },
     "execution_count": 149,
     "metadata": {},
     "output_type": "execute_result"
    }
   ],
   "source": [
    "Ratings = []\n",
    "for container in batting_div:\n",
    "    rating = container.find([\"div\",\"td\"],class_=[\"rankings-block__banner--rating\",\"table-body__cell rating\"])\n",
    "    if rating is not None:\n",
    "        Ratings.append(rating.text)\n",
    "    else:\n",
    "        Ratings.append(batting_div[1].text)\n",
    "Ratings.remove('870')\n",
    "Ratings"
   ]
  },
  {
   "cell_type": "code",
   "execution_count": 150,
   "metadata": {},
   "outputs": [
    {
     "data": {
      "text/plain": [
       "{'Name': ['Virat Kohli',\n",
       "  'Rohit Sharma',\n",
       "  'Babar Azam',\n",
       "  'Ross Taylor',\n",
       "  'Aaron Finch',\n",
       "  'Francois du Plessis',\n",
       "  'David Warner',\n",
       "  'Shai Hope',\n",
       "  'Kane Williamson',\n",
       "  'Quinton de Kock'],\n",
       " 'Team': ['IND', 'IND', 'PAK', 'NZ', 'AUS', 'SA', 'AUS', 'WI', 'NZ', 'SA'],\n",
       " 'Ratings': ['870',\n",
       "  '842',\n",
       "  '837',\n",
       "  '818',\n",
       "  '791',\n",
       "  '790',\n",
       "  '773',\n",
       "  '773',\n",
       "  '765',\n",
       "  '755']}"
      ]
     },
     "execution_count": 150,
     "metadata": {},
     "output_type": "execute_result"
    }
   ],
   "source": [
    "Data = {\n",
    "    \"Name\": player_names,\n",
    "    \"Team\":team_name,\n",
    "    \"Ratings\":Ratings\n",
    "}\n",
    "Data"
   ]
  },
  {
   "cell_type": "code",
   "execution_count": 152,
   "metadata": {},
   "outputs": [
    {
     "data": {
      "text/html": [
       "<div>\n",
       "<style scoped>\n",
       "    .dataframe tbody tr th:only-of-type {\n",
       "        vertical-align: middle;\n",
       "    }\n",
       "\n",
       "    .dataframe tbody tr th {\n",
       "        vertical-align: top;\n",
       "    }\n",
       "\n",
       "    .dataframe thead th {\n",
       "        text-align: right;\n",
       "    }\n",
       "</style>\n",
       "<table border=\"1\" class=\"dataframe\">\n",
       "  <thead>\n",
       "    <tr style=\"text-align: right;\">\n",
       "      <th></th>\n",
       "      <th>Name</th>\n",
       "      <th>Team</th>\n",
       "      <th>Ratings</th>\n",
       "    </tr>\n",
       "    <tr>\n",
       "      <th>Rank</th>\n",
       "      <th></th>\n",
       "      <th></th>\n",
       "      <th></th>\n",
       "    </tr>\n",
       "  </thead>\n",
       "  <tbody>\n",
       "    <tr>\n",
       "      <th>1</th>\n",
       "      <td>Virat Kohli</td>\n",
       "      <td>IND</td>\n",
       "      <td>870</td>\n",
       "    </tr>\n",
       "    <tr>\n",
       "      <th>2</th>\n",
       "      <td>Rohit Sharma</td>\n",
       "      <td>IND</td>\n",
       "      <td>842</td>\n",
       "    </tr>\n",
       "    <tr>\n",
       "      <th>3</th>\n",
       "      <td>Babar Azam</td>\n",
       "      <td>PAK</td>\n",
       "      <td>837</td>\n",
       "    </tr>\n",
       "    <tr>\n",
       "      <th>4</th>\n",
       "      <td>Ross Taylor</td>\n",
       "      <td>NZ</td>\n",
       "      <td>818</td>\n",
       "    </tr>\n",
       "    <tr>\n",
       "      <th>5</th>\n",
       "      <td>Aaron Finch</td>\n",
       "      <td>AUS</td>\n",
       "      <td>791</td>\n",
       "    </tr>\n",
       "    <tr>\n",
       "      <th>6</th>\n",
       "      <td>Francois du Plessis</td>\n",
       "      <td>SA</td>\n",
       "      <td>790</td>\n",
       "    </tr>\n",
       "    <tr>\n",
       "      <th>7</th>\n",
       "      <td>David Warner</td>\n",
       "      <td>AUS</td>\n",
       "      <td>773</td>\n",
       "    </tr>\n",
       "    <tr>\n",
       "      <th>8</th>\n",
       "      <td>Shai Hope</td>\n",
       "      <td>WI</td>\n",
       "      <td>773</td>\n",
       "    </tr>\n",
       "    <tr>\n",
       "      <th>9</th>\n",
       "      <td>Kane Williamson</td>\n",
       "      <td>NZ</td>\n",
       "      <td>765</td>\n",
       "    </tr>\n",
       "    <tr>\n",
       "      <th>10</th>\n",
       "      <td>Quinton de Kock</td>\n",
       "      <td>SA</td>\n",
       "      <td>755</td>\n",
       "    </tr>\n",
       "  </tbody>\n",
       "</table>\n",
       "</div>"
      ],
      "text/plain": [
       "                     Name Team Ratings\n",
       "Rank                                  \n",
       "1             Virat Kohli  IND     870\n",
       "2            Rohit Sharma  IND     842\n",
       "3              Babar Azam  PAK     837\n",
       "4             Ross Taylor   NZ     818\n",
       "5             Aaron Finch  AUS     791\n",
       "6     Francois du Plessis   SA     790\n",
       "7            David Warner  AUS     773\n",
       "8               Shai Hope   WI     773\n",
       "9         Kane Williamson   NZ     765\n",
       "10        Quinton de Kock   SA     755"
      ]
     },
     "execution_count": 152,
     "metadata": {},
     "output_type": "execute_result"
    }
   ],
   "source": [
    "df = pd.DataFrame(Data,columns = ['Name', 'Team','Ratings']) \n",
    "df.index = np.arange(1, len(df) + 1)\n",
    "df.index.name = \"Rank\"\n",
    "df"
   ]
  },
  {
   "cell_type": "code",
   "execution_count": null,
   "metadata": {},
   "outputs": [],
   "source": []
  }
 ],
 "metadata": {
  "kernelspec": {
   "display_name": "Python 3",
   "language": "python",
   "name": "python3"
  },
  "language_info": {
   "codemirror_mode": {
    "name": "ipython",
    "version": 3
   },
   "file_extension": ".py",
   "mimetype": "text/x-python",
   "name": "python",
   "nbconvert_exporter": "python",
   "pygments_lexer": "ipython3",
   "version": "3.7.6"
  }
 },
 "nbformat": 4,
 "nbformat_minor": 4
}
