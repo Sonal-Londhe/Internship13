{
 "cells": [
  {
   "cell_type": "code",
   "execution_count": 1,
   "metadata": {},
   "outputs": [],
   "source": [
    "import pandas as pd\n",
    "import numpy as np\n",
    "\n",
    "import requests\n",
    "from requests import get\n",
    "from bs4 import BeautifulSoup"
   ]
  },
  {
   "cell_type": "code",
   "execution_count": 2,
   "metadata": {},
   "outputs": [],
   "source": [
    "page = requests.get(\"https://www.icc-cricket.com/rankings/mens/player-rankings/test/bowling\")\n",
    "soup = BeautifulSoup(page.text, 'html.parser')"
   ]
  },
  {
   "cell_type": "code",
   "execution_count": 4,
   "metadata": {},
   "outputs": [],
   "source": [
    "bowling_div = soup.find_all([\"div\",\"tr\"],{\"class\":[\"rankings-block__banner\", \"table-body\",\"rankings-block__banner--rating\"]},limit=11)"
   ]
  },
  {
   "cell_type": "code",
   "execution_count": 6,
   "metadata": {},
   "outputs": [
    {
     "data": {
      "text/plain": [
       "['Pat Cummins',\n",
       " 'Ravichandran Ashwin',\n",
       " 'Neil Wagner',\n",
       " 'James Anderson',\n",
       " 'Josh Hazlewood',\n",
       " 'Tim Southee',\n",
       " 'Stuart Broad',\n",
       " 'Kagiso Rabada',\n",
       " 'Mitchell Starc',\n",
       " 'Jasprit Bumrah']"
      ]
     },
     "execution_count": 6,
     "metadata": {},
     "output_type": "execute_result"
    }
   ],
   "source": [
    "player_names = []\n",
    "for container in bowling_div:\n",
    "    name = container.find(['div',\"td\"],class_=['rankings-block__banner--name-large',\"table-body__cell rankings-table__name name\"])\n",
    "    if name is not None:\n",
    "        player_names.append(name.text.strip())\n",
    "    else:\n",
    "        pass\n",
    "    \n",
    "player_names"
   ]
  },
  {
   "cell_type": "code",
   "execution_count": 7,
   "metadata": {},
   "outputs": [
    {
     "data": {
      "text/plain": [
       "['AUS', 'IND', 'NZ', 'ENG', 'AUS', 'NZ', 'ENG', 'SA', 'AUS', 'IND']"
      ]
     },
     "execution_count": 7,
     "metadata": {},
     "output_type": "execute_result"
    }
   ],
   "source": [
    "team_name=[]\n",
    "for container in bowling_div:\n",
    "    team = container.find(['div',\"span\"],class_=['rankings-block__banner--nationality',\"table-body__logo-text\"])\n",
    "    if team is not None:\n",
    "        team_name.append(team.text.strip())\n",
    "    else:\n",
    "        pass\n",
    "    \n",
    "team_name"
   ]
  },
  {
   "cell_type": "code",
   "execution_count": 9,
   "metadata": {},
   "outputs": [
    {
     "data": {
      "text/plain": [
       "['908', '850', '825', '822', '816', '811', '792', '753', '744', '739']"
      ]
     },
     "execution_count": 9,
     "metadata": {},
     "output_type": "execute_result"
    }
   ],
   "source": [
    "Ratings = []\n",
    "for container in bowling_div:\n",
    "    rating = container.find([\"div\",\"td\"],class_=[\"rankings-block__banner--rating\",\"table-body__cell rating\"])\n",
    "    if rating is not None:\n",
    "        Ratings.append(rating.text)\n",
    "    else:\n",
    "        Ratings.append(batting_div[1].text)\n",
    "Ratings.remove('908')\n",
    "Ratings"
   ]
  },
  {
   "cell_type": "code",
   "execution_count": 10,
   "metadata": {},
   "outputs": [
    {
     "data": {
      "text/plain": [
       "{'Name': ['Pat Cummins',\n",
       "  'Ravichandran Ashwin',\n",
       "  'Neil Wagner',\n",
       "  'James Anderson',\n",
       "  'Josh Hazlewood',\n",
       "  'Tim Southee',\n",
       "  'Stuart Broad',\n",
       "  'Kagiso Rabada',\n",
       "  'Mitchell Starc',\n",
       "  'Jasprit Bumrah'],\n",
       " 'Team': ['AUS', 'IND', 'NZ', 'ENG', 'AUS', 'NZ', 'ENG', 'SA', 'AUS', 'IND'],\n",
       " 'Ratings': ['908',\n",
       "  '850',\n",
       "  '825',\n",
       "  '822',\n",
       "  '816',\n",
       "  '811',\n",
       "  '792',\n",
       "  '753',\n",
       "  '744',\n",
       "  '739']}"
      ]
     },
     "execution_count": 10,
     "metadata": {},
     "output_type": "execute_result"
    }
   ],
   "source": [
    "Data = {\n",
    "    \"Name\": player_names,\n",
    "    \"Team\":team_name,\n",
    "    \"Ratings\":Ratings\n",
    "}\n",
    "Data"
   ]
  },
  {
   "cell_type": "code",
   "execution_count": 11,
   "metadata": {},
   "outputs": [
    {
     "data": {
      "text/html": [
       "<div>\n",
       "<style scoped>\n",
       "    .dataframe tbody tr th:only-of-type {\n",
       "        vertical-align: middle;\n",
       "    }\n",
       "\n",
       "    .dataframe tbody tr th {\n",
       "        vertical-align: top;\n",
       "    }\n",
       "\n",
       "    .dataframe thead th {\n",
       "        text-align: right;\n",
       "    }\n",
       "</style>\n",
       "<table border=\"1\" class=\"dataframe\">\n",
       "  <thead>\n",
       "    <tr style=\"text-align: right;\">\n",
       "      <th></th>\n",
       "      <th>Name</th>\n",
       "      <th>Team</th>\n",
       "      <th>Ratings</th>\n",
       "    </tr>\n",
       "    <tr>\n",
       "      <th>Rank</th>\n",
       "      <th></th>\n",
       "      <th></th>\n",
       "      <th></th>\n",
       "    </tr>\n",
       "  </thead>\n",
       "  <tbody>\n",
       "    <tr>\n",
       "      <th>1</th>\n",
       "      <td>Pat Cummins</td>\n",
       "      <td>AUS</td>\n",
       "      <td>908</td>\n",
       "    </tr>\n",
       "    <tr>\n",
       "      <th>2</th>\n",
       "      <td>Ravichandran Ashwin</td>\n",
       "      <td>IND</td>\n",
       "      <td>850</td>\n",
       "    </tr>\n",
       "    <tr>\n",
       "      <th>3</th>\n",
       "      <td>Neil Wagner</td>\n",
       "      <td>NZ</td>\n",
       "      <td>825</td>\n",
       "    </tr>\n",
       "    <tr>\n",
       "      <th>4</th>\n",
       "      <td>James Anderson</td>\n",
       "      <td>ENG</td>\n",
       "      <td>822</td>\n",
       "    </tr>\n",
       "    <tr>\n",
       "      <th>5</th>\n",
       "      <td>Josh Hazlewood</td>\n",
       "      <td>AUS</td>\n",
       "      <td>816</td>\n",
       "    </tr>\n",
       "    <tr>\n",
       "      <th>6</th>\n",
       "      <td>Tim Southee</td>\n",
       "      <td>NZ</td>\n",
       "      <td>811</td>\n",
       "    </tr>\n",
       "    <tr>\n",
       "      <th>7</th>\n",
       "      <td>Stuart Broad</td>\n",
       "      <td>ENG</td>\n",
       "      <td>792</td>\n",
       "    </tr>\n",
       "    <tr>\n",
       "      <th>8</th>\n",
       "      <td>Kagiso Rabada</td>\n",
       "      <td>SA</td>\n",
       "      <td>753</td>\n",
       "    </tr>\n",
       "    <tr>\n",
       "      <th>9</th>\n",
       "      <td>Mitchell Starc</td>\n",
       "      <td>AUS</td>\n",
       "      <td>744</td>\n",
       "    </tr>\n",
       "    <tr>\n",
       "      <th>10</th>\n",
       "      <td>Jasprit Bumrah</td>\n",
       "      <td>IND</td>\n",
       "      <td>739</td>\n",
       "    </tr>\n",
       "  </tbody>\n",
       "</table>\n",
       "</div>"
      ],
      "text/plain": [
       "                     Name Team Ratings\n",
       "Rank                                  \n",
       "1             Pat Cummins  AUS     908\n",
       "2     Ravichandran Ashwin  IND     850\n",
       "3             Neil Wagner   NZ     825\n",
       "4          James Anderson  ENG     822\n",
       "5          Josh Hazlewood  AUS     816\n",
       "6             Tim Southee   NZ     811\n",
       "7            Stuart Broad  ENG     792\n",
       "8           Kagiso Rabada   SA     753\n",
       "9          Mitchell Starc  AUS     744\n",
       "10         Jasprit Bumrah  IND     739"
      ]
     },
     "execution_count": 11,
     "metadata": {},
     "output_type": "execute_result"
    }
   ],
   "source": [
    "df = pd.DataFrame(Data,columns = ['Name', 'Team','Ratings']) \n",
    "df.index = np.arange(1, len(df) + 1)\n",
    "df.index.name = \"Rank\"\n",
    "df"
   ]
  },
  {
   "cell_type": "code",
   "execution_count": null,
   "metadata": {},
   "outputs": [],
   "source": []
  }
 ],
 "metadata": {
  "kernelspec": {
   "display_name": "Python 3",
   "language": "python",
   "name": "python3"
  },
  "language_info": {
   "codemirror_mode": {
    "name": "ipython",
    "version": 3
   },
   "file_extension": ".py",
   "mimetype": "text/x-python",
   "name": "python",
   "nbconvert_exporter": "python",
   "pygments_lexer": "ipython3",
   "version": "3.7.6"
  }
 },
 "nbformat": 4,
 "nbformat_minor": 4
}
