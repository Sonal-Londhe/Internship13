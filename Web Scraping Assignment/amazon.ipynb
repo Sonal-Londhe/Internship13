{
 "cells": [
  {
   "cell_type": "code",
   "execution_count": 133,
   "metadata": {},
   "outputs": [],
   "source": [
    "import pandas as pd\n",
    "import requests\n",
    "from requests import get\n",
    "from bs4 import BeautifulSoup\n"
   ]
  },
  {
   "cell_type": "code",
   "execution_count": 134,
   "metadata": {},
   "outputs": [],
   "source": [
    "HEADERS = ({'User-Agent': \n",
    "           'Mozilla/5.0 (X11; Linux x86_64) AppleWebKit/537.36 (KHTML, like Gecko) Chrome/44.0.2403.157 Safari/537.36',  'Accept-Language': 'en-US, en;q=0.5'})\n",
    "\n",
    "page = requests.get(\"https://www.amazon.in/s?k=phones+under+20000\", headers=HEADERS)\n",
    " \n",
    "\n",
    "soup = BeautifulSoup(page.text, 'html.parser')"
   ]
  },
  {
   "cell_type": "code",
   "execution_count": 135,
   "metadata": {
    "scrolled": true
   },
   "outputs": [],
   "source": [
    "Product_row = soup.find_all('div', class_='sg-row')"
   ]
  },
  {
   "cell_type": "code",
   "execution_count": 164,
   "metadata": {
    "scrolled": true
   },
   "outputs": [
    {
     "data": {
      "text/plain": [
       "22"
      ]
     },
     "execution_count": 164,
     "metadata": {},
     "output_type": "execute_result"
    }
   ],
   "source": [
    "Prod_name = []\n",
    "prod = []\n",
    "for container in Product_row:\n",
    "    prod.append(container.findAll(\"span\",class_=\"a-size-medium a-color-base a-text-normal\"))\n",
    "prod = prod[1]\n",
    "for p in prod:\n",
    "    Prod_name.append(p.text)\n",
    "len(Prod_name)"
   ]
  },
  {
   "cell_type": "code",
   "execution_count": 137,
   "metadata": {},
   "outputs": [],
   "source": [
    "Prices = []\n",
    "price = []\n",
    "for container in Product_row:\n",
    "    price.append(container.find_all(\"span\",class_=\"a-price-whole\"))\n",
    "price = price[1]\n",
    "for p in price:\n",
    "    Prices.append(p.text)"
   ]
  },
  {
   "cell_type": "code",
   "execution_count": 163,
   "metadata": {},
   "outputs": [
    {
     "data": {
      "text/plain": [
       "22"
      ]
     },
     "execution_count": 163,
     "metadata": {},
     "output_type": "execute_result"
    }
   ],
   "source": [
    "len(Prices)"
   ]
  },
  {
   "cell_type": "code",
   "execution_count": 170,
   "metadata": {},
   "outputs": [
    {
     "name": "stdout",
     "output_type": "stream",
     "text": [
      "\n",
      "4.1 out of 5 stars\n",
      "\n",
      "4.1 out of 5 stars\n",
      "\n",
      "4.1 out of 5 stars\n",
      "4.1 out of 5 stars\n",
      "\n",
      "\n",
      "\n",
      "\n",
      "4.3 out of 5 stars\n",
      "4.3 out of 5 stars\n",
      "\n",
      "\n",
      "\n",
      "\n",
      "4.1 out of 5 stars\n",
      "4.1 out of 5 stars\n",
      "\n",
      "\n",
      "\n",
      "\n",
      "4.2 out of 5 stars\n",
      "4.2 out of 5 stars\n",
      "\n",
      "\n",
      "\n",
      "\n",
      "4.2 out of 5 stars\n",
      "4.2 out of 5 stars\n",
      "\n",
      "\n",
      "\n",
      "\n",
      "4.2 out of 5 stars\n",
      "4.2 out of 5 stars\n",
      "\n",
      "\n",
      "\n",
      "\n",
      "4.1 out of 5 stars\n",
      "4.1 out of 5 stars\n",
      "\n",
      "\n",
      "\n",
      "\n",
      "4.2 out of 5 stars\n",
      "4.2 out of 5 stars\n",
      "\n",
      "\n",
      "\n",
      "\n",
      "4.2 out of 5 stars\n",
      "4.2 out of 5 stars\n",
      "\n",
      "\n",
      "\n",
      "\n",
      "3.5 out of 5 stars\n",
      "3.5 out of 5 stars\n",
      "\n",
      "\n",
      "\n",
      "\n",
      "3.8 out of 5 stars\n",
      "3.8 out of 5 stars\n",
      "\n",
      "\n",
      "\n",
      "\n",
      "4.2 out of 5 stars\n",
      "4.2 out of 5 stars\n",
      "\n",
      "\n",
      "\n",
      "\n",
      "3.5 out of 5 stars\n",
      "3.5 out of 5 stars\n",
      "\n",
      "\n",
      "\n",
      "\n",
      "4.1 out of 5 stars\n",
      "4.1 out of 5 stars\n",
      "\n",
      "\n",
      "\n",
      "\n",
      "3.5 out of 5 stars\n",
      "3.5 out of 5 stars\n",
      "\n",
      "\n",
      "\n",
      "\n",
      "3.3 out of 5 stars\n",
      "3.3 out of 5 stars\n",
      "\n",
      "\n",
      "\n",
      "\n",
      "4.2 out of 5 stars\n",
      "4.2 out of 5 stars\n",
      "\n",
      "\n",
      "\n",
      "\n",
      "4.2 out of 5 stars\n",
      "4.2 out of 5 stars\n",
      "\n",
      "\n",
      "\n",
      "\n",
      "3.5 out of 5 stars\n",
      "3.5 out of 5 stars\n",
      "\n",
      "\n",
      "\n",
      "\n",
      "3.5 out of 5 stars\n",
      "3.5 out of 5 stars\n",
      "\n",
      "\n",
      "\n",
      "\n",
      "4.1 out of 5 stars\n",
      "4.1 out of 5 stars\n",
      "\n",
      "\n",
      "\n",
      "\n",
      "3.9 out of 5 stars\n",
      "3.9 out of 5 stars\n",
      "\n",
      "\n",
      "\n",
      "\n",
      "\n",
      "\n",
      "\n"
     ]
    }
   ],
   "source": [
    "Avg_rating = []\n",
    "\n",
    "for container in Product_row:\n",
    "    rating = get_rating(container)\n",
    "    print(rating)\n",
    "#     avg_rating.append(container.find(\"div\",class_=\"a-row a-size-small\"))\n",
    "#     rating = container.find('span', attrs={'class':'a-icon-alt'})\n",
    "    \n",
    "# if rating is not None:\n",
    "# #         print(rating.text)\n",
    "#         Avg_rating.append()\n",
    "#     else:\n",
    "#         pass\n",
    "    \n",
    "#     get_rating(container)\n",
    "    \n",
    "# len(Avg_rating)"
   ]
  },
  {
   "cell_type": "code",
   "execution_count": 171,
   "metadata": {},
   "outputs": [],
   "source": [
    "def get_rating(soup):\n",
    " \n",
    "    try:\n",
    "        rating = soup.find(\"i\", attrs={'class':'a-icon a-icon-star a-star-4-5'}).string.strip()\n",
    "         \n",
    "    except AttributeError:\n",
    "         \n",
    "        try:\n",
    "            rating = soup.find(\"span\", attrs={'class':'a-icon-alt'}).string.strip()\n",
    "        except:\n",
    "            rating = \"\" \n",
    " \n",
    "    return rating"
   ]
  },
  {
   "cell_type": "code",
   "execution_count": 166,
   "metadata": {},
   "outputs": [
    {
     "data": {
      "text/plain": [
       "'4.1 out of 5 stars'"
      ]
     },
     "execution_count": 166,
     "metadata": {},
     "output_type": "execute_result"
    }
   ],
   "source": []
  },
  {
   "cell_type": "code",
   "execution_count": 155,
   "metadata": {},
   "outputs": [],
   "source": [
    "data = {\n",
    "    \"Name\": Prod_name,\n",
    "    \"Price\" : Prices,\n",
    "    \"Rating\":Avg_rating\n",
    "}"
   ]
  },
  {
   "cell_type": "code",
   "execution_count": 156,
   "metadata": {},
   "outputs": [
    {
     "data": {
      "text/plain": [
       "{'Name': ['Vivo Y31 (Racing Black, 6GB, 128GB Storage) with No Cost EMI/Additional Exchange Offers',\n",
       "  'Vivo V20 2021 Midnight Jazz, 8GB RAM, 128GB Storage',\n",
       "  'Redmi 9 (Sky Blue, 4GB RAM, 64GB Storage)',\n",
       "  'Redmi 9A (Nature Green, 2GB Ram, 32GB Storage) | 2GHz Octa-core Helio G25 Processor',\n",
       "  'Samsung Galaxy M31 (Ocean Blue, 6GB RAM, 128GB Storage)',\n",
       "  'Redmi Note 9 (Pebble Grey, 4GB RAM 64GB Storage) - 48MP Quad Camera & Full HD+ Display | Extra Upto INR 1000 Off on Exchange',\n",
       "  'Oppo A31 (Mystery Black, 6GB RAM, 128GB Storage) with No Cost EMI/Additional Exchange Offers',\n",
       "  'Redmi 9 Prime (Sunrise Flare, 4GB RAM, 64GB Storage)- Full HD+ Display & AI Quad Camera',\n",
       "  'Redmi 9A (Nature Green, 3GB Ram, 32GB Storage) | 2GHz Octa-core Helio G25 Processor',\n",
       "  'Samsung Galaxy M01 Core (Blue, 1GB RAM, 16GB Storage) with No Cost EMI/Additional Exchange Offers',\n",
       "  'Samsung Galaxy M02 (Red,3GB RAM, 32GB Storage)',\n",
       "  'Vivo Y12s (Phantom Black, 3GB, 32GB ) with No Cost EMI/Additional Exchange Offers',\n",
       "  'Samsung Galaxy M01 Core (Blue, 2GB RAM, 32GB Storage) with No Cost EMI/Additional Exchange Offers',\n",
       "  'Oppo A31 (Fantasy White, 6GB RAM, 128GB Storage) with No Cost EMI/Additional Exchange Offers',\n",
       "  'Samsung Galaxy M01 Core (Black, 2GB RAM, 32GB Storage) with No Cost EMI/Additional Exchange Offers',\n",
       "  'Panasonic Eluga I6 (Black, 2GB Ram, 16GB Storage) - 3 Month No Cost EMI',\n",
       "  'Redmi Note 9 Pro (Interstellar Black, 4GB RAM, 64GB Storage)- Latest 8nm Snapdragon 720G & Alexa Hands-Free',\n",
       "  'Redmi Note 9 Pro (Glacier White, 4GB RAM, 64GB Storage) - Latest 8nm Snapdragon 720G & Alexa Hands-Free',\n",
       "  'KECHAODA K10 Finger Bluetooth Phone, Single SIM, 0.66 inch Display, 300mAh Battery, DAILER, Wireless FM, BIS Certified (Black), Mini',\n",
       "  'Samsung Galaxy M01 Core (Black, 1GB RAM, 16GB Storage) with No Cost EMI/Additional Exchange Offers',\n",
       "  'Oppo A31 (Mystery Black, 6GB RAM, 128GB Storage) with No Cost EMI/Additional Exchange Offers',\n",
       "  'OPPO A15s (Fancy White, 4GB RAM, 64GB Storage) with No Cost EMI/Additional Exchange Offers'],\n",
       " 'Price': ['16,490',\n",
       "  '24,990',\n",
       "  '8,799',\n",
       "  '6,799',\n",
       "  '16,499',\n",
       "  '10,999',\n",
       "  '11,990',\n",
       "  '9,499',\n",
       "  '7,499',\n",
       "  '5,199',\n",
       "  '7,499',\n",
       "  '9,990',\n",
       "  '6,199',\n",
       "  '11,990',\n",
       "  '6,199',\n",
       "  '4,681',\n",
       "  '12,999',\n",
       "  '12,999',\n",
       "  '893',\n",
       "  '5,199',\n",
       "  '11,990',\n",
       "  '11,490'],\n",
       " 'Rating': ['4.1 out of 5 stars',\n",
       "  '4.1 out of 5 stars',\n",
       "  '4.1 out of 5 stars',\n",
       "  '4.1 out of 5 stars',\n",
       "  '4.3 out of 5 stars',\n",
       "  '4.3 out of 5 stars',\n",
       "  '4.1 out of 5 stars',\n",
       "  '4.1 out of 5 stars',\n",
       "  '4.2 out of 5 stars',\n",
       "  '4.2 out of 5 stars',\n",
       "  '4.2 out of 5 stars',\n",
       "  '4.2 out of 5 stars',\n",
       "  '4.2 out of 5 stars',\n",
       "  '4.2 out of 5 stars',\n",
       "  '4.1 out of 5 stars',\n",
       "  '4.1 out of 5 stars',\n",
       "  '4.2 out of 5 stars',\n",
       "  '4.2 out of 5 stars',\n",
       "  '4.2 out of 5 stars',\n",
       "  '4.2 out of 5 stars',\n",
       "  '3.5 out of 5 stars',\n",
       "  '3.5 out of 5 stars',\n",
       "  '3.8 out of 5 stars',\n",
       "  '3.8 out of 5 stars',\n",
       "  '4.2 out of 5 stars',\n",
       "  '4.2 out of 5 stars',\n",
       "  '3.5 out of 5 stars',\n",
       "  '3.5 out of 5 stars',\n",
       "  '4.1 out of 5 stars',\n",
       "  '4.1 out of 5 stars',\n",
       "  '3.5 out of 5 stars',\n",
       "  '3.5 out of 5 stars',\n",
       "  '3.3 out of 5 stars',\n",
       "  '3.3 out of 5 stars',\n",
       "  '4.2 out of 5 stars',\n",
       "  '4.2 out of 5 stars',\n",
       "  '4.2 out of 5 stars',\n",
       "  '4.2 out of 5 stars',\n",
       "  '3.5 out of 5 stars',\n",
       "  '3.5 out of 5 stars',\n",
       "  '3.5 out of 5 stars',\n",
       "  '3.5 out of 5 stars',\n",
       "  '4.1 out of 5 stars',\n",
       "  '4.1 out of 5 stars',\n",
       "  '3.9 out of 5 stars',\n",
       "  '3.9 out of 5 stars']}"
      ]
     },
     "execution_count": 156,
     "metadata": {},
     "output_type": "execute_result"
    }
   ],
   "source": [
    "data"
   ]
  },
  {
   "cell_type": "code",
   "execution_count": 157,
   "metadata": {},
   "outputs": [
    {
     "ename": "ValueError",
     "evalue": "arrays must all be same length",
     "output_type": "error",
     "traceback": [
      "\u001b[1;31m---------------------------------------------------------------------------\u001b[0m",
      "\u001b[1;31mValueError\u001b[0m                                Traceback (most recent call last)",
      "\u001b[1;32m<ipython-input-157-54ca0855929c>\u001b[0m in \u001b[0;36m<module>\u001b[1;34m\u001b[0m\n\u001b[1;32m----> 1\u001b[1;33m \u001b[0mdf\u001b[0m \u001b[1;33m=\u001b[0m \u001b[0mpd\u001b[0m\u001b[1;33m.\u001b[0m\u001b[0mDataFrame\u001b[0m\u001b[1;33m(\u001b[0m\u001b[0mdata\u001b[0m\u001b[1;33m,\u001b[0m\u001b[0mcolumns\u001b[0m \u001b[1;33m=\u001b[0m \u001b[1;33m[\u001b[0m\u001b[1;34m'Name'\u001b[0m\u001b[1;33m,\u001b[0m \u001b[1;34m'Price'\u001b[0m\u001b[1;33m,\u001b[0m\u001b[1;34m'Rating'\u001b[0m\u001b[1;33m]\u001b[0m\u001b[1;33m)\u001b[0m\u001b[1;33m\u001b[0m\u001b[1;33m\u001b[0m\u001b[0m\n\u001b[0m\u001b[0;32m      2\u001b[0m \u001b[0mdf\u001b[0m\u001b[1;33m.\u001b[0m\u001b[0mindex\u001b[0m \u001b[1;33m=\u001b[0m \u001b[0mnp\u001b[0m\u001b[1;33m.\u001b[0m\u001b[0marange\u001b[0m\u001b[1;33m(\u001b[0m\u001b[1;36m1\u001b[0m\u001b[1;33m,\u001b[0m \u001b[0mlen\u001b[0m\u001b[1;33m(\u001b[0m\u001b[0mdf\u001b[0m\u001b[1;33m)\u001b[0m \u001b[1;33m+\u001b[0m \u001b[1;36m1\u001b[0m\u001b[1;33m)\u001b[0m\u001b[1;33m\u001b[0m\u001b[1;33m\u001b[0m\u001b[0m\n\u001b[0;32m      3\u001b[0m \u001b[0mdf\u001b[0m\u001b[1;33m.\u001b[0m\u001b[0mindex\u001b[0m\u001b[1;33m.\u001b[0m\u001b[0mname\u001b[0m \u001b[1;33m=\u001b[0m \u001b[1;34m\"Rank\"\u001b[0m\u001b[1;33m\u001b[0m\u001b[1;33m\u001b[0m\u001b[0m\n\u001b[0;32m      4\u001b[0m \u001b[0mdf\u001b[0m\u001b[1;33m\u001b[0m\u001b[1;33m\u001b[0m\u001b[0m\n",
      "\u001b[1;32m~\\anaconda3\\lib\\site-packages\\pandas\\core\\frame.py\u001b[0m in \u001b[0;36m__init__\u001b[1;34m(self, data, index, columns, dtype, copy)\u001b[0m\n\u001b[0;32m    466\u001b[0m \u001b[1;33m\u001b[0m\u001b[0m\n\u001b[0;32m    467\u001b[0m         \u001b[1;32melif\u001b[0m \u001b[0misinstance\u001b[0m\u001b[1;33m(\u001b[0m\u001b[0mdata\u001b[0m\u001b[1;33m,\u001b[0m \u001b[0mdict\u001b[0m\u001b[1;33m)\u001b[0m\u001b[1;33m:\u001b[0m\u001b[1;33m\u001b[0m\u001b[1;33m\u001b[0m\u001b[0m\n\u001b[1;32m--> 468\u001b[1;33m             \u001b[0mmgr\u001b[0m \u001b[1;33m=\u001b[0m \u001b[0minit_dict\u001b[0m\u001b[1;33m(\u001b[0m\u001b[0mdata\u001b[0m\u001b[1;33m,\u001b[0m \u001b[0mindex\u001b[0m\u001b[1;33m,\u001b[0m \u001b[0mcolumns\u001b[0m\u001b[1;33m,\u001b[0m \u001b[0mdtype\u001b[0m\u001b[1;33m=\u001b[0m\u001b[0mdtype\u001b[0m\u001b[1;33m)\u001b[0m\u001b[1;33m\u001b[0m\u001b[1;33m\u001b[0m\u001b[0m\n\u001b[0m\u001b[0;32m    469\u001b[0m         \u001b[1;32melif\u001b[0m \u001b[0misinstance\u001b[0m\u001b[1;33m(\u001b[0m\u001b[0mdata\u001b[0m\u001b[1;33m,\u001b[0m \u001b[0mma\u001b[0m\u001b[1;33m.\u001b[0m\u001b[0mMaskedArray\u001b[0m\u001b[1;33m)\u001b[0m\u001b[1;33m:\u001b[0m\u001b[1;33m\u001b[0m\u001b[1;33m\u001b[0m\u001b[0m\n\u001b[0;32m    470\u001b[0m             \u001b[1;32mimport\u001b[0m \u001b[0mnumpy\u001b[0m\u001b[1;33m.\u001b[0m\u001b[0mma\u001b[0m\u001b[1;33m.\u001b[0m\u001b[0mmrecords\u001b[0m \u001b[1;32mas\u001b[0m \u001b[0mmrecords\u001b[0m\u001b[1;33m\u001b[0m\u001b[1;33m\u001b[0m\u001b[0m\n",
      "\u001b[1;32m~\\anaconda3\\lib\\site-packages\\pandas\\core\\internals\\construction.py\u001b[0m in \u001b[0;36minit_dict\u001b[1;34m(data, index, columns, dtype)\u001b[0m\n\u001b[0;32m    252\u001b[0m             \u001b[1;31m# GH10856\u001b[0m\u001b[1;33m\u001b[0m\u001b[1;33m\u001b[0m\u001b[1;33m\u001b[0m\u001b[0m\n\u001b[0;32m    253\u001b[0m             \u001b[1;31m# raise ValueError if only scalars in dict\u001b[0m\u001b[1;33m\u001b[0m\u001b[1;33m\u001b[0m\u001b[1;33m\u001b[0m\u001b[0m\n\u001b[1;32m--> 254\u001b[1;33m             \u001b[0mindex\u001b[0m \u001b[1;33m=\u001b[0m \u001b[0mextract_index\u001b[0m\u001b[1;33m(\u001b[0m\u001b[0marrays\u001b[0m\u001b[1;33m[\u001b[0m\u001b[1;33m~\u001b[0m\u001b[0mmissing\u001b[0m\u001b[1;33m]\u001b[0m\u001b[1;33m)\u001b[0m\u001b[1;33m\u001b[0m\u001b[1;33m\u001b[0m\u001b[0m\n\u001b[0m\u001b[0;32m    255\u001b[0m         \u001b[1;32melse\u001b[0m\u001b[1;33m:\u001b[0m\u001b[1;33m\u001b[0m\u001b[1;33m\u001b[0m\u001b[0m\n\u001b[0;32m    256\u001b[0m             \u001b[0mindex\u001b[0m \u001b[1;33m=\u001b[0m \u001b[0mensure_index\u001b[0m\u001b[1;33m(\u001b[0m\u001b[0mindex\u001b[0m\u001b[1;33m)\u001b[0m\u001b[1;33m\u001b[0m\u001b[1;33m\u001b[0m\u001b[0m\n",
      "\u001b[1;32m~\\anaconda3\\lib\\site-packages\\pandas\\core\\internals\\construction.py\u001b[0m in \u001b[0;36mextract_index\u001b[1;34m(data)\u001b[0m\n\u001b[0;32m    395\u001b[0m             \u001b[0mlengths\u001b[0m \u001b[1;33m=\u001b[0m \u001b[0mlist\u001b[0m\u001b[1;33m(\u001b[0m\u001b[0mset\u001b[0m\u001b[1;33m(\u001b[0m\u001b[0mraw_lengths\u001b[0m\u001b[1;33m)\u001b[0m\u001b[1;33m)\u001b[0m\u001b[1;33m\u001b[0m\u001b[1;33m\u001b[0m\u001b[0m\n\u001b[0;32m    396\u001b[0m             \u001b[1;32mif\u001b[0m \u001b[0mlen\u001b[0m\u001b[1;33m(\u001b[0m\u001b[0mlengths\u001b[0m\u001b[1;33m)\u001b[0m \u001b[1;33m>\u001b[0m \u001b[1;36m1\u001b[0m\u001b[1;33m:\u001b[0m\u001b[1;33m\u001b[0m\u001b[1;33m\u001b[0m\u001b[0m\n\u001b[1;32m--> 397\u001b[1;33m                 \u001b[1;32mraise\u001b[0m \u001b[0mValueError\u001b[0m\u001b[1;33m(\u001b[0m\u001b[1;34m\"arrays must all be same length\"\u001b[0m\u001b[1;33m)\u001b[0m\u001b[1;33m\u001b[0m\u001b[1;33m\u001b[0m\u001b[0m\n\u001b[0m\u001b[0;32m    398\u001b[0m \u001b[1;33m\u001b[0m\u001b[0m\n\u001b[0;32m    399\u001b[0m             \u001b[1;32mif\u001b[0m \u001b[0mhave_dicts\u001b[0m\u001b[1;33m:\u001b[0m\u001b[1;33m\u001b[0m\u001b[1;33m\u001b[0m\u001b[0m\n",
      "\u001b[1;31mValueError\u001b[0m: arrays must all be same length"
     ]
    }
   ],
   "source": [
    "df = pd.DataFrame(data,columns = ['Name', 'Price','Rating']) \n",
    "df.index = np.arange(1, len(df) + 1)\n",
    "df.index.name = \"Rank\"\n",
    "df"
   ]
  },
  {
   "cell_type": "code",
   "execution_count": null,
   "metadata": {},
   "outputs": [],
   "source": []
  }
 ],
 "metadata": {
  "kernelspec": {
   "display_name": "Python 3",
   "language": "python",
   "name": "python3"
  },
  "language_info": {
   "codemirror_mode": {
    "name": "ipython",
    "version": 3
   },
   "file_extension": ".py",
   "mimetype": "text/x-python",
   "name": "python",
   "nbconvert_exporter": "python",
   "pygments_lexer": "ipython3",
   "version": "3.8.5"
  }
 },
 "nbformat": 4,
 "nbformat_minor": 4
}
